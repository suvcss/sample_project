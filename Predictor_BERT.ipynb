{
  "nbformat": 4,
  "nbformat_minor": 0,
  "metadata": {
    "colab": {
      "name": "Predictor_BERT.ipynb",
      "provenance": [],
      "collapsed_sections": [],
      "toc_visible": true
    },
    "kernelspec": {
      "name": "python3",
      "display_name": "Python 3"
    },
    "accelerator": "GPU"
  },
  "cells": [
    {
      "cell_type": "code",
      "metadata": {
        "colab": {
          "base_uri": "https://localhost:8080/"
        },
        "id": "Gd03JUT0ZzIa",
        "outputId": "1aa3fea5-0584-446d-845e-f2f7c74ab4a1"
      },
      "source": [
        "!pip install transformers"
      ],
      "execution_count": null,
      "outputs": [
        {
          "output_type": "stream",
          "name": "stdout",
          "text": [
            "Collecting transformers\n",
            "  Downloading transformers-4.16.2-py3-none-any.whl (3.5 MB)\n",
            "\u001b[K     |████████████████████████████████| 3.5 MB 5.3 MB/s \n",
            "\u001b[?25hRequirement already satisfied: packaging>=20.0 in /usr/local/lib/python3.7/dist-packages (from transformers) (21.3)\n",
            "Collecting tokenizers!=0.11.3,>=0.10.1\n",
            "  Downloading tokenizers-0.11.5-cp37-cp37m-manylinux_2_12_x86_64.manylinux2010_x86_64.whl (6.8 MB)\n",
            "\u001b[K     |████████████████████████████████| 6.8 MB 29.7 MB/s \n",
            "\u001b[?25hCollecting pyyaml>=5.1\n",
            "  Downloading PyYAML-6.0-cp37-cp37m-manylinux_2_5_x86_64.manylinux1_x86_64.manylinux_2_12_x86_64.manylinux2010_x86_64.whl (596 kB)\n",
            "\u001b[K     |████████████████████████████████| 596 kB 47.1 MB/s \n",
            "\u001b[?25hCollecting huggingface-hub<1.0,>=0.1.0\n",
            "  Downloading huggingface_hub-0.4.0-py3-none-any.whl (67 kB)\n",
            "\u001b[K     |████████████████████████████████| 67 kB 5.0 MB/s \n",
            "\u001b[?25hRequirement already satisfied: importlib-metadata in /usr/local/lib/python3.7/dist-packages (from transformers) (4.11.1)\n",
            "Requirement already satisfied: numpy>=1.17 in /usr/local/lib/python3.7/dist-packages (from transformers) (1.21.5)\n",
            "Requirement already satisfied: tqdm>=4.27 in /usr/local/lib/python3.7/dist-packages (from transformers) (4.62.3)\n",
            "Requirement already satisfied: requests in /usr/local/lib/python3.7/dist-packages (from transformers) (2.23.0)\n",
            "Requirement already satisfied: filelock in /usr/local/lib/python3.7/dist-packages (from transformers) (3.6.0)\n",
            "Collecting sacremoses\n",
            "  Downloading sacremoses-0.0.47-py2.py3-none-any.whl (895 kB)\n",
            "\u001b[K     |████████████████████████████████| 895 kB 37.2 MB/s \n",
            "\u001b[?25hRequirement already satisfied: regex!=2019.12.17 in /usr/local/lib/python3.7/dist-packages (from transformers) (2019.12.20)\n",
            "Requirement already satisfied: typing-extensions>=3.7.4.3 in /usr/local/lib/python3.7/dist-packages (from huggingface-hub<1.0,>=0.1.0->transformers) (3.10.0.2)\n",
            "Requirement already satisfied: pyparsing!=3.0.5,>=2.0.2 in /usr/local/lib/python3.7/dist-packages (from packaging>=20.0->transformers) (3.0.7)\n",
            "Requirement already satisfied: zipp>=0.5 in /usr/local/lib/python3.7/dist-packages (from importlib-metadata->transformers) (3.7.0)\n",
            "Requirement already satisfied: certifi>=2017.4.17 in /usr/local/lib/python3.7/dist-packages (from requests->transformers) (2021.10.8)\n",
            "Requirement already satisfied: idna<3,>=2.5 in /usr/local/lib/python3.7/dist-packages (from requests->transformers) (2.10)\n",
            "Requirement already satisfied: chardet<4,>=3.0.2 in /usr/local/lib/python3.7/dist-packages (from requests->transformers) (3.0.4)\n",
            "Requirement already satisfied: urllib3!=1.25.0,!=1.25.1,<1.26,>=1.21.1 in /usr/local/lib/python3.7/dist-packages (from requests->transformers) (1.24.3)\n",
            "Requirement already satisfied: six in /usr/local/lib/python3.7/dist-packages (from sacremoses->transformers) (1.15.0)\n",
            "Requirement already satisfied: click in /usr/local/lib/python3.7/dist-packages (from sacremoses->transformers) (7.1.2)\n",
            "Requirement already satisfied: joblib in /usr/local/lib/python3.7/dist-packages (from sacremoses->transformers) (1.1.0)\n",
            "Installing collected packages: pyyaml, tokenizers, sacremoses, huggingface-hub, transformers\n",
            "  Attempting uninstall: pyyaml\n",
            "    Found existing installation: PyYAML 3.13\n",
            "    Uninstalling PyYAML-3.13:\n",
            "      Successfully uninstalled PyYAML-3.13\n",
            "Successfully installed huggingface-hub-0.4.0 pyyaml-6.0 sacremoses-0.0.47 tokenizers-0.11.5 transformers-4.16.2\n"
          ]
        }
      ]
    },
    {
      "cell_type": "code",
      "metadata": {
        "id": "dhhDt6vKaDz2"
      },
      "source": [
        "from transformers import BertTokenizer, TFBertForSequenceClassification, glue_convert_examples_to_features"
      ],
      "execution_count": null,
      "outputs": []
    },
    {
      "cell_type": "code",
      "metadata": {
        "id": "fwjn3jtpiLHF"
      },
      "source": [
        "import datetime\n",
        "import json\n",
        "import matplotlib.pyplot as plt\n",
        "import numpy as np\n",
        "import random\n",
        "\n",
        "import tensorflow as tf\n",
        "import tensorflow.keras as keras\n",
        "from tensorflow.keras.callbacks import ModelCheckpoint\n",
        "from tensorflow.keras.layers import Dense, Dropout\n",
        "from tensorflow.keras.models import Sequential\n",
        "from tensorflow.keras.utils import plot_model as vizu\n",
        "import pandas as pd\n",
        "import os\n",
        "import re\n",
        "from sklearn.model_selection import train_test_split\n",
        "import tensorflow_datasets as tfds"
      ],
      "execution_count": null,
      "outputs": []
    },
    {
      "cell_type": "code",
      "metadata": {
        "colab": {
          "base_uri": "https://localhost:8080/",
          "height": 35
        },
        "id": "kv46Bv5bidYE",
        "outputId": "6923fd7e-6b71-4f87-c3a8-b63dc05109e6"
      },
      "source": [
        "tf.test.gpu_device_name()"
      ],
      "execution_count": null,
      "outputs": [
        {
          "output_type": "execute_result",
          "data": {
            "application/vnd.google.colaboratory.intrinsic+json": {
              "type": "string"
            },
            "text/plain": [
              "'/device:GPU:0'"
            ]
          },
          "metadata": {
            "tags": []
          },
          "execution_count": 5
        }
      ]
    },
    {
      "cell_type": "code",
      "metadata": {
        "colab": {
          "base_uri": "https://localhost:8080/"
        },
        "id": "n2ULL0c1jAbH",
        "outputId": "e4970b03-d16a-472f-8c22-c7764ac10033"
      },
      "source": [
        "from google.colab import drive\n",
        "drive.mount('/content/gdrive', force_remount=True)"
      ],
      "execution_count": null,
      "outputs": [
        {
          "output_type": "stream",
          "text": [
            "Mounted at /content/gdrive\n"
          ],
          "name": "stdout"
        }
      ]
    },
    {
      "cell_type": "code",
      "metadata": {
        "colab": {
          "base_uri": "https://localhost:8080/",
          "height": 786
        },
        "id": "eYrAnZLgjAz0",
        "outputId": "0fa5c575-abd8-40f7-9ec0-e37f14347f2d"
      },
      "source": [
        "data = pd.read_csv(\"/content/gdrive/My Drive/mysky/Result_29.csv\")\n",
        "data['comp_from_name'] = data.comp_from_name.astype(str)\n",
        "data['comp_from_type'] = data.comp_from_type.astype(str)\n",
        "data['service_details'] = data.service_details.astype(str)\n",
        "data['cost_root_id'] = data.cost_root_id.astype(int)\n",
        "data"
      ],
      "execution_count": null,
      "outputs": [
        {
          "output_type": "execute_result",
          "data": {
            "text/html": [
              "<div>\n",
              "<style scoped>\n",
              "    .dataframe tbody tr th:only-of-type {\n",
              "        vertical-align: middle;\n",
              "    }\n",
              "\n",
              "    .dataframe tbody tr th {\n",
              "        vertical-align: top;\n",
              "    }\n",
              "\n",
              "    .dataframe thead th {\n",
              "        text-align: right;\n",
              "    }\n",
              "</style>\n",
              "<table border=\"1\" class=\"dataframe\">\n",
              "  <thead>\n",
              "    <tr style=\"text-align: right;\">\n",
              "      <th></th>\n",
              "      <th>id</th>\n",
              "      <th>doc_date</th>\n",
              "      <th>cost_ids</th>\n",
              "      <th>cost_root_id</th>\n",
              "      <th>cost_variant_id</th>\n",
              "      <th>curr_value</th>\n",
              "      <th>curr_id</th>\n",
              "      <th>comp_from_id</th>\n",
              "      <th>comp_from_name</th>\n",
              "      <th>comp_from_type</th>\n",
              "      <th>comp_from_agent</th>\n",
              "      <th>comp_from_operator</th>\n",
              "      <th>comp_from_manufaturer</th>\n",
              "      <th>comp_to_id</th>\n",
              "      <th>comp_to_name</th>\n",
              "      <th>service_details</th>\n",
              "      <th>aircrat_id</th>\n",
              "      <th>aicraft_size</th>\n",
              "    </tr>\n",
              "  </thead>\n",
              "  <tbody>\n",
              "    <tr>\n",
              "      <th>0</th>\n",
              "      <td>854171</td>\n",
              "      <td>2020-08-18</td>\n",
              "      <td>{70}</td>\n",
              "      <td>70</td>\n",
              "      <td>1</td>\n",
              "      <td>10.50</td>\n",
              "      <td>1</td>\n",
              "      <td>158</td>\n",
              "      <td>SBA Flight Support Services Ltd</td>\n",
              "      <td>independent</td>\n",
              "      <td>True</td>\n",
              "      <td>True</td>\n",
              "      <td>False</td>\n",
              "      <td>3605</td>\n",
              "      <td>Jet Capital Aviation S.A.</td>\n",
              "      <td>WASTE REMOVING (PER BAG) (V-3)</td>\n",
              "      <td>173</td>\n",
              "      <td>medium</td>\n",
              "    </tr>\n",
              "    <tr>\n",
              "      <th>1</th>\n",
              "      <td>854164</td>\n",
              "      <td>2020-08-18</td>\n",
              "      <td>{70}</td>\n",
              "      <td>70</td>\n",
              "      <td>1</td>\n",
              "      <td>66.14</td>\n",
              "      <td>1</td>\n",
              "      <td>158</td>\n",
              "      <td>SBA Flight Support Services Ltd</td>\n",
              "      <td>independent</td>\n",
              "      <td>True</td>\n",
              "      <td>True</td>\n",
              "      <td>False</td>\n",
              "      <td>3605</td>\n",
              "      <td>Jet Capital Aviation S.A.</td>\n",
              "      <td>LAUNDRY</td>\n",
              "      <td>173</td>\n",
              "      <td>medium</td>\n",
              "    </tr>\n",
              "    <tr>\n",
              "      <th>2</th>\n",
              "      <td>854170</td>\n",
              "      <td>2020-08-18</td>\n",
              "      <td>{43}</td>\n",
              "      <td>43</td>\n",
              "      <td>1</td>\n",
              "      <td>265.00</td>\n",
              "      <td>1</td>\n",
              "      <td>158</td>\n",
              "      <td>SBA Flight Support Services Ltd</td>\n",
              "      <td>independent</td>\n",
              "      <td>True</td>\n",
              "      <td>True</td>\n",
              "      <td>False</td>\n",
              "      <td>3605</td>\n",
              "      <td>Jet Capital Aviation S.A.</td>\n",
              "      <td>TOWING UP TO 500M (V-3)</td>\n",
              "      <td>173</td>\n",
              "      <td>medium</td>\n",
              "    </tr>\n",
              "    <tr>\n",
              "      <th>3</th>\n",
              "      <td>854172</td>\n",
              "      <td>2020-08-18</td>\n",
              "      <td>{71}</td>\n",
              "      <td>71</td>\n",
              "      <td>1</td>\n",
              "      <td>300.00</td>\n",
              "      <td>1</td>\n",
              "      <td>158</td>\n",
              "      <td>SBA Flight Support Services Ltd</td>\n",
              "      <td>independent</td>\n",
              "      <td>True</td>\n",
              "      <td>True</td>\n",
              "      <td>False</td>\n",
              "      <td>3605</td>\n",
              "      <td>Jet Capital Aviation S.A.</td>\n",
              "      <td>LAVATORY SERVICE (V-3)</td>\n",
              "      <td>173</td>\n",
              "      <td>medium</td>\n",
              "    </tr>\n",
              "    <tr>\n",
              "      <th>4</th>\n",
              "      <td>854183</td>\n",
              "      <td>2020-08-18</td>\n",
              "      <td>{73}</td>\n",
              "      <td>73</td>\n",
              "      <td>1</td>\n",
              "      <td>85.00</td>\n",
              "      <td>1</td>\n",
              "      <td>158</td>\n",
              "      <td>SBA Flight Support Services Ltd</td>\n",
              "      <td>independent</td>\n",
              "      <td>True</td>\n",
              "      <td>True</td>\n",
              "      <td>False</td>\n",
              "      <td>3605</td>\n",
              "      <td>Jet Capital Aviation S.A.</td>\n",
              "      <td>AIRCRAFT TECHNICAL ASSISTANCE PER DEP (V-3)</td>\n",
              "      <td>173</td>\n",
              "      <td>medium</td>\n",
              "    </tr>\n",
              "    <tr>\n",
              "      <th>...</th>\n",
              "      <td>...</td>\n",
              "      <td>...</td>\n",
              "      <td>...</td>\n",
              "      <td>...</td>\n",
              "      <td>...</td>\n",
              "      <td>...</td>\n",
              "      <td>...</td>\n",
              "      <td>...</td>\n",
              "      <td>...</td>\n",
              "      <td>...</td>\n",
              "      <td>...</td>\n",
              "      <td>...</td>\n",
              "      <td>...</td>\n",
              "      <td>...</td>\n",
              "      <td>...</td>\n",
              "      <td>...</td>\n",
              "      <td>...</td>\n",
              "      <td>...</td>\n",
              "    </tr>\n",
              "    <tr>\n",
              "      <th>550227</th>\n",
              "      <td>862509</td>\n",
              "      <td>2020-10-14</td>\n",
              "      <td>{59}</td>\n",
              "      <td>59</td>\n",
              "      <td>1</td>\n",
              "      <td>2.00</td>\n",
              "      <td>1</td>\n",
              "      <td>4360</td>\n",
              "      <td>Universal Aviation Italy S.r.l.</td>\n",
              "      <td>company</td>\n",
              "      <td>False</td>\n",
              "      <td>False</td>\n",
              "      <td>False</td>\n",
              "      <td>5471</td>\n",
              "      <td>Premium Jet AG</td>\n",
              "      <td>Additional passenger charge L 350/2003</td>\n",
              "      <td>171</td>\n",
              "      <td>medium</td>\n",
              "    </tr>\n",
              "    <tr>\n",
              "      <th>550228</th>\n",
              "      <td>862516</td>\n",
              "      <td>2020-10-14</td>\n",
              "      <td>{59}</td>\n",
              "      <td>59</td>\n",
              "      <td>1</td>\n",
              "      <td>1.00</td>\n",
              "      <td>1</td>\n",
              "      <td>4360</td>\n",
              "      <td>Universal Aviation Italy S.r.l.</td>\n",
              "      <td>company</td>\n",
              "      <td>False</td>\n",
              "      <td>False</td>\n",
              "      <td>False</td>\n",
              "      <td>5471</td>\n",
              "      <td>Premium Jet AG</td>\n",
              "      <td>Additional passenger charge L296/2006</td>\n",
              "      <td>171</td>\n",
              "      <td>medium</td>\n",
              "    </tr>\n",
              "    <tr>\n",
              "      <th>550229</th>\n",
              "      <td>862525</td>\n",
              "      <td>2020-10-14</td>\n",
              "      <td>{59}</td>\n",
              "      <td>59</td>\n",
              "      <td>1</td>\n",
              "      <td>4.00</td>\n",
              "      <td>1</td>\n",
              "      <td>4360</td>\n",
              "      <td>Universal Aviation Italy S.r.l.</td>\n",
              "      <td>company</td>\n",
              "      <td>False</td>\n",
              "      <td>False</td>\n",
              "      <td>False</td>\n",
              "      <td>5471</td>\n",
              "      <td>Premium Jet AG</td>\n",
              "      <td>Additional passenger charge L92/2012</td>\n",
              "      <td>171</td>\n",
              "      <td>medium</td>\n",
              "    </tr>\n",
              "    <tr>\n",
              "      <th>550230</th>\n",
              "      <td>763683</td>\n",
              "      <td>2018-12-26</td>\n",
              "      <td>{130}</td>\n",
              "      <td>130</td>\n",
              "      <td>1</td>\n",
              "      <td>500.00</td>\n",
              "      <td>1</td>\n",
              "      <td>4602</td>\n",
              "      <td>Jet Source FZE</td>\n",
              "      <td>independent</td>\n",
              "      <td>False</td>\n",
              "      <td>False</td>\n",
              "      <td>False</td>\n",
              "      <td>6016</td>\n",
              "      <td>Flights Holdings Limited</td>\n",
              "      <td>5 / Business trip / Movement from Homebase to ...</td>\n",
              "      <td>191</td>\n",
              "      <td>medium</td>\n",
              "    </tr>\n",
              "    <tr>\n",
              "      <th>550231</th>\n",
              "      <td>833744</td>\n",
              "      <td>2020-07-16</td>\n",
              "      <td>{3}</td>\n",
              "      <td>3</td>\n",
              "      <td>1</td>\n",
              "      <td>435.20</td>\n",
              "      <td>4</td>\n",
              "      <td>2175</td>\n",
              "      <td>Signature Flight Support London Luton Ltd</td>\n",
              "      <td>independent</td>\n",
              "      <td>False</td>\n",
              "      <td>False</td>\n",
              "      <td>False</td>\n",
              "      <td>1779</td>\n",
              "      <td>Global Jet Luxembourg SA</td>\n",
              "      <td>Jet A-1 Platts</td>\n",
              "      <td>331</td>\n",
              "      <td>medium</td>\n",
              "    </tr>\n",
              "  </tbody>\n",
              "</table>\n",
              "<p>550232 rows × 18 columns</p>\n",
              "</div>"
            ],
            "text/plain": [
              "            id    doc_date  ... aircrat_id  aicraft_size\n",
              "0       854171  2020-08-18  ...        173        medium\n",
              "1       854164  2020-08-18  ...        173        medium\n",
              "2       854170  2020-08-18  ...        173        medium\n",
              "3       854172  2020-08-18  ...        173        medium\n",
              "4       854183  2020-08-18  ...        173        medium\n",
              "...        ...         ...  ...        ...           ...\n",
              "550227  862509  2020-10-14  ...        171        medium\n",
              "550228  862516  2020-10-14  ...        171        medium\n",
              "550229  862525  2020-10-14  ...        171        medium\n",
              "550230  763683  2018-12-26  ...        191        medium\n",
              "550231  833744  2020-07-16  ...        331        medium\n",
              "\n",
              "[550232 rows x 18 columns]"
            ]
          },
          "metadata": {
            "tags": []
          },
          "execution_count": 91
        }
      ]
    },
    {
      "cell_type": "code",
      "metadata": {
        "colab": {
          "base_uri": "https://localhost:8080/",
          "height": 282
        },
        "id": "HnxxZQoE2LCV",
        "outputId": "4f4b640b-b7da-4e95-f97f-9a60050808d6"
      },
      "source": [
        "data.cost_root_id.plot.hist(bins=270, alpha=0.5)"
      ],
      "execution_count": null,
      "outputs": [
        {
          "output_type": "execute_result",
          "data": {
            "text/plain": [
              "<matplotlib.axes._subplots.AxesSubplot at 0x7fe6a5081310>"
            ]
          },
          "metadata": {
            "tags": []
          },
          "execution_count": 8
        },
        {
          "output_type": "display_data",
          "data": {
            "image/png": "[encoded data removed]",
            "text/plain": [
              "<Figure size 432x288 with 1 Axes>"
            ]
          },
          "metadata": {
            "tags": [],
            "needs_background": "light"
          }
        }
      ]
    },
    {
      "cell_type": "code",
      "metadata": {
        "colab": {
          "base_uri": "https://localhost:8080/"
        },
        "id": "_s6oSLoo4hCs",
        "outputId": "5c13b9f5-e76e-4458-e87c-2cfbb6aa71a1"
      },
      "source": [
        "value_counts = data.cost_root_id.value_counts()\n",
        "value_counts"
      ],
      "execution_count": null,
      "outputs": [
        {
          "output_type": "execute_result",
          "data": {
            "text/plain": [
              "22     57321\n",
              "21     51363\n",
              "259    37283\n",
              "104    16584\n",
              "124    15036\n",
              "       ...  \n",
              "230        1\n",
              "148        1\n",
              "283        1\n",
              "288        1\n",
              "80         1\n",
              "Name: cost_root_id, Length: 233, dtype: int64"
            ]
          },
          "metadata": {
            "tags": []
          },
          "execution_count": 9
        }
      ]
    },
    {
      "cell_type": "code",
      "metadata": {
        "colab": {
          "base_uri": "https://localhost:8080/"
        },
        "id": "zNGFKAIC5S1B",
        "outputId": "32c4f12c-31b4-4928-fd63-ce1d91058378"
      },
      "source": [
        "value_counts.where(value_counts < 1000)"
      ],
      "execution_count": null,
      "outputs": [
        {
          "output_type": "execute_result",
          "data": {
            "text/plain": [
              "22     NaN\n",
              "21     NaN\n",
              "259    NaN\n",
              "104    NaN\n",
              "124    NaN\n",
              "      ... \n",
              "230    1.0\n",
              "148    1.0\n",
              "283    1.0\n",
              "288    1.0\n",
              "80     1.0\n",
              "Name: cost_root_id, Length: 233, dtype: float64"
            ]
          },
          "metadata": {
            "tags": []
          },
          "execution_count": 11
        }
      ]
    },
    {
      "cell_type": "code",
      "metadata": {
        "colab": {
          "base_uri": "https://localhost:8080/"
        },
        "id": "GVS-fTiD7kCZ",
        "outputId": "ba1bcadf-3c0d-4a6b-dbd5-9c24b6c71ebe"
      },
      "source": [
        "value_counts.loc[value_counts < 100]"
      ],
      "execution_count": null,
      "outputs": [
        {
          "output_type": "execute_result",
          "data": {
            "text/plain": [
              "122    95\n",
              "167    90\n",
              "157    88\n",
              "54     84\n",
              "139    77\n",
              "       ..\n",
              "230     1\n",
              "148     1\n",
              "283     1\n",
              "288     1\n",
              "80      1\n",
              "Name: cost_root_id, Length: 100, dtype: int64"
            ]
          },
          "metadata": {
            "tags": []
          },
          "execution_count": 12
        }
      ]
    },
    {
      "cell_type": "code",
      "metadata": {
        "colab": {
          "base_uri": "https://localhost:8080/"
        },
        "id": "Y0yTh1aB9pSL",
        "outputId": "22d9aaec-3c02-4884-e97c-1861cca1a6b4"
      },
      "source": [
        "ignored_cost_articles = value_counts.loc[value_counts < 100].index.to_list()\n",
        "ignored_cost_articles[:2]"
      ],
      "execution_count": null,
      "outputs": [
        {
          "output_type": "execute_result",
          "data": {
            "text/plain": [
              "[122, 167]"
            ]
          },
          "metadata": {
            "tags": []
          },
          "execution_count": 13
        }
      ]
    },
    {
      "cell_type": "code",
      "metadata": {
        "colab": {
          "base_uri": "https://localhost:8080/"
        },
        "id": "AYskih6Bwvnv",
        "outputId": "865e2b74-1d61-4584-bbcc-b41c3aef442e"
      },
      "source": [
        "data_lim = data.copy()\n",
        "data_lim.loc[data['cost_root_id'].isin(ignored_cost_articles), 'cost_root_id'] = 1000\n",
        "data_lim.cost_root_id.unique()"
      ],
      "execution_count": null,
      "outputs": [
        {
          "output_type": "execute_result",
          "data": {
            "text/plain": [
              "array([  70,   43,   71,   73,   55,   82,    4,  101,  116,   30,   22,\n",
              "          9,   32,   96,   35,   21,  100,  258,  125,  104,   52,  259,\n",
              "        123,   62,   85,   44,   59,  243,  124,   51,   53,   34,   50,\n",
              "         99,   39,   91,   20,   84,   47,   16,   69,   90,   94,    3,\n",
              "         72,   98,   48,   33,  244,   27,   74,   75,   58,  127,   29,\n",
              "         45,   56,   15,   97,   25,   89,   26,  103,  255,  105,  130,\n",
              "         87,   61,   83,   60,   68,   78,  262,   57,  225,  112,  224,\n",
              "         64,  117,  226,  294,   40,  115,  254,  239,  253,  126, 1000,\n",
              "         67,  252,   49,   86,  287,  500,  109,   12,   41,   92,  257,\n",
              "        196,  241,  232,  120,  159,  171,  149,  131,  165,   77,   76,\n",
              "        132,  242,  164,  152,  169,  151,   95,  134,  256,  121,  178,\n",
              "        155,  129,  156,  173,   63,  160,  163,  162,   10,  158,   18,\n",
              "        166,  153])"
            ]
          },
          "metadata": {
            "tags": []
          },
          "execution_count": 92
        }
      ]
    },
    {
      "cell_type": "code",
      "metadata": {
        "colab": {
          "base_uri": "https://localhost:8080/"
        },
        "id": "xnCYGd0uyEE6",
        "outputId": "21b05406-23cb-4e2e-f39f-c0b8d4b0d596"
      },
      "source": [
        "len(data_lim.cost_root_id.unique())"
      ],
      "execution_count": null,
      "outputs": [
        {
          "output_type": "execute_result",
          "data": {
            "text/plain": [
              "134"
            ]
          },
          "metadata": {
            "tags": []
          },
          "execution_count": 93
        }
      ]
    },
    {
      "cell_type": "code",
      "metadata": {
        "colab": {
          "base_uri": "https://localhost:8080/"
        },
        "id": "_LIC19BDygZN",
        "outputId": "6ac16430-5b69-4d28-d59a-b4493629b82b"
      },
      "source": [
        "len(data.cost_root_id.unique())"
      ],
      "execution_count": null,
      "outputs": [
        {
          "output_type": "execute_result",
          "data": {
            "text/plain": [
              "233"
            ]
          },
          "metadata": {
            "tags": []
          },
          "execution_count": 36
        }
      ]
    },
    {
      "cell_type": "code",
      "metadata": {
        "colab": {
          "base_uri": "https://localhost:8080/",
          "height": 286
        },
        "id": "Ge46n60u81DS",
        "outputId": "9680d930-ed7e-48ff-ca63-9d1337e529bf"
      },
      "source": [
        "data_lim = data.loc[~data['cost_root_id'].isin(ignored_cost_articles)]\n",
        "data_lim.cost_root_id.plot.hist(bins=270, alpha=0.5)"
      ],
      "execution_count": null,
      "outputs": [
        {
          "output_type": "execute_result",
          "data": {
            "text/plain": [
              "<matplotlib.axes._subplots.AxesSubplot at 0x7fe6a45c7cd0>"
            ]
          },
          "metadata": {
            "tags": []
          },
          "execution_count": 14
        },
        {
          "output_type": "display_data",
          "data": {
            "image/png": "[encoded data removed]",
            "text/plain": [
              "<Figure size 432x288 with 1 Axes>"
            ]
          },
          "metadata": {
            "tags": [],
            "needs_background": "light"
          }
        }
      ]
    },
    {
      "cell_type": "code",
      "metadata": {
        "colab": {
          "base_uri": "https://localhost:8080/"
        },
        "id": "hAZpcPO2Bl0h",
        "outputId": "c36ce775-1f34-46de-cd51-62130cecc670"
      },
      "source": [
        "data_lim.cost_root_id.value_counts(normalize=True)"
      ],
      "execution_count": null,
      "outputs": [
        {
          "output_type": "execute_result",
          "data": {
            "text/plain": [
              "22     0.104670\n",
              "21     0.093791\n",
              "259    0.068080\n",
              "104    0.030283\n",
              "124    0.027456\n",
              "         ...   \n",
              "166    0.000205\n",
              "239    0.000203\n",
              "294    0.000199\n",
              "134    0.000194\n",
              "153    0.000188\n",
              "Name: cost_root_id, Length: 133, dtype: float64"
            ]
          },
          "metadata": {
            "tags": []
          },
          "execution_count": 15
        }
      ]
    },
    {
      "cell_type": "code",
      "metadata": {
        "colab": {
          "base_uri": "https://localhost:8080/"
        },
        "id": "tKn7dxdWDppr",
        "outputId": "a8c49672-2fe2-4896-d62f-23066cd796de"
      },
      "source": [
        "len(data_lim.cost_root_id.unique())"
      ],
      "execution_count": null,
      "outputs": [
        {
          "output_type": "execute_result",
          "data": {
            "text/plain": [
              "134"
            ]
          },
          "metadata": {
            "tags": []
          },
          "execution_count": 106
        }
      ]
    },
    {
      "cell_type": "code",
      "metadata": {
        "colab": {
          "base_uri": "https://localhost:8080/"
        },
        "id": "XX-UkHAHCY6_",
        "outputId": "15ccd130-4823-4f7c-a7a3-1b314a68e9b0"
      },
      "source": [
        "from sklearn.utils import class_weight\n",
        "class_weights = class_weight.compute_class_weight('balanced',\n",
        "                                                 (data_lim.cost_root_id.unique()),\n",
        "                                                 data_lim.cost_root_id.values)\n",
        "class_weights"
      ],
      "execution_count": null,
      "outputs": [
        {
          "output_type": "execute_result",
          "data": {
            "text/plain": [
              "array([ 0.32087278,  0.67336979,  0.68551068,  0.88002764,  0.33495464,\n",
              "       10.08896549,  0.30027122,  1.1570045 ,  0.78168836,  1.33839927,\n",
              "        0.07163533,  0.73403807,  0.9730353 ,  0.98140749,  0.63211345,\n",
              "        0.07994488,  0.7794626 ,  0.39897094,  0.39986454,  0.24760064,\n",
              "        0.3774436 ,  0.11013623,  0.29850312,  1.35028246,  0.89381997,\n",
              "        1.06323381,  0.49341612,  1.56725533,  0.27309184,  0.49187937,\n",
              "        0.51027823,  0.58946439,  0.33316097,  1.26461625,  0.42938502,\n",
              "        1.67943107,  1.03639802,  0.58401493,  3.22815169,  2.77821986,\n",
              "        1.08314665,  0.85421447,  2.28503559,  0.29186218,  1.24129654,\n",
              "        1.00543804,  2.8260213 ,  4.06555342,  1.19679655,  1.38536065,\n",
              "        3.2155121 ,  4.37295948,  0.57269302,  0.46080226,  0.99351777,\n",
              "       18.41349307, 10.66547781,  0.51819901,  4.57771344,  1.88444651,\n",
              "        1.85131152,  0.65406323,  0.36370318,  6.40594221,  3.48574614,\n",
              "        4.85367489,  4.277301  ,  2.68029305,  8.03563396,  5.6559352 ,\n",
              "       18.08902623,  2.25988385, 11.69860101,  2.48710415,  2.87751153,\n",
              "        7.8064809 ,  8.94598901,  3.04614908,  1.51913021,  7.98873338,\n",
              "       37.67164179,  1.67327178,  1.35967184,  6.58046307, 36.99287347,\n",
              "        7.91177063,  0.785126  ,  1.5799188 ,  7.64657161,  5.1780693 ,\n",
              "        6.22152872, 11.66536635, 25.66380597,  6.82094511,  3.87744   ,\n",
              "        4.65029327, 28.12471887, 14.93166893, 10.80581304,  6.4461679 ,\n",
              "        3.06891551,  3.2180321 ,  1.51800701, 18.8358209 , 32.58895996,\n",
              "       30.41636263, 16.76003655, 15.5538218 , 11.50198587,  2.82019846,\n",
              "       13.20324423, 16.55729417, 10.97916833, 17.69917653, 19.74138921,\n",
              "       13.41898351, 33.11458835, 38.73782033, 24.15417032,  8.17969911,\n",
              "       24.88611488, 15.20818132, 34.79838098, 17.32577618, 29.97232814,\n",
              "        9.73035297, 34.21840796,  7.70395676, 20.42890027, 30.87375154,\n",
              "       26.49167068, 14.15934122, 36.66257996, 39.86610636])"
            ]
          },
          "metadata": {
            "tags": []
          },
          "execution_count": 192
        }
      ]
    },
    {
      "cell_type": "code",
      "metadata": {
        "colab": {
          "base_uri": "https://localhost:8080/"
        },
        "id": "dTL7bYG_E8gL",
        "outputId": "a6c49e49-f245-4998-ec0f-cf51783d283f"
      },
      "source": [
        "data_lim.cost_root_id.unique()"
      ],
      "execution_count": null,
      "outputs": [
        {
          "output_type": "execute_result",
          "data": {
            "text/plain": [
              "array([  70,   43,   71,   73,   55,   82,    4,  101,  116,   30,   22,\n",
              "          9,   32,   96,   35,   21,  100,  258,  125,  104,   52,  259,\n",
              "        123,   62,   85,   44,   59,  243,  124,   51,   53,   34,   50,\n",
              "         99,   39,   91,   20,   84,   47,   16,   69,   90,   94,    3,\n",
              "         72,   98,   48,   33,  244,   27,   74,   75,   58,  127,   29,\n",
              "         45,   56,   15,   97,   25,   89,   26,  103,  255,  105,  130,\n",
              "         87,   61,   83,   60,   68,   78,  262,   57,  225,  112,  224,\n",
              "         64,  117,  226,  294,   40,  115,  254,  239,  253,  126, 1000,\n",
              "         67,  252,   49,   86,  287,  500,  109,   12,   41,   92,  257,\n",
              "        196,  241,  232,  120,  159,  171,  149,  131,  165,   77,   76,\n",
              "        132,  242,  164,  152,  169,  151,   95,  134,  256,  121,  178,\n",
              "        155,  129,  156,  173,   63,  160,  163,  162,   10,  158,   18,\n",
              "        166,  153])"
            ]
          },
          "metadata": {
            "tags": []
          },
          "execution_count": 194
        }
      ]
    },
    {
      "cell_type": "code",
      "metadata": {
        "colab": {
          "base_uri": "https://localhost:8080/"
        },
        "id": "keoI-7bWEu0N",
        "outputId": "21d68135-3994-453f-9961-0432403c2100"
      },
      "source": [
        "len(class_weights)"
      ],
      "execution_count": null,
      "outputs": [
        {
          "output_type": "execute_result",
          "data": {
            "text/plain": [
              "134"
            ]
          },
          "metadata": {
            "tags": []
          },
          "execution_count": 193
        }
      ]
    },
    {
      "cell_type": "code",
      "metadata": {
        "id": "WK4IKQXKuljH"
      },
      "source": [
        "from sklearn.preprocessing import LabelEncoder"
      ],
      "execution_count": null,
      "outputs": []
    },
    {
      "cell_type": "code",
      "metadata": {
        "colab": {
          "base_uri": "https://localhost:8080/"
        },
        "id": "X6ES6AWMvV63",
        "outputId": "e9cf2951-eda2-4b89-808d-6d1f7349123f"
      },
      "source": [
        "encoder = LabelEncoder()\n",
        "trafomed_label = encoder.fit_transform(data_lim.cost_root_id.unique())\n",
        "print(len(trafomed_label))\n"
      ],
      "execution_count": null,
      "outputs": [
        {
          "output_type": "stream",
          "text": [
            "134\n"
          ],
          "name": "stdout"
        }
      ]
    },
    {
      "cell_type": "code",
      "metadata": {
        "colab": {
          "base_uri": "https://localhost:8080/",
          "height": 786
        },
        "id": "zST14brp0wbz",
        "outputId": "e9accb6e-1156-4369-c989-3156fb81f06b"
      },
      "source": [
        "data_lim"
      ],
      "execution_count": null,
      "outputs": [
        {
          "output_type": "execute_result",
          "data": {
            "text/html": [
              "<div>\n",
              "<style scoped>\n",
              "    .dataframe tbody tr th:only-of-type {\n",
              "        vertical-align: middle;\n",
              "    }\n",
              "\n",
              "    .dataframe tbody tr th {\n",
              "        vertical-align: top;\n",
              "    }\n",
              "\n",
              "    .dataframe thead th {\n",
              "        text-align: right;\n",
              "    }\n",
              "</style>\n",
              "<table border=\"1\" class=\"dataframe\">\n",
              "  <thead>\n",
              "    <tr style=\"text-align: right;\">\n",
              "      <th></th>\n",
              "      <th>id</th>\n",
              "      <th>doc_date</th>\n",
              "      <th>cost_ids</th>\n",
              "      <th>cost_root_id</th>\n",
              "      <th>cost_variant_id</th>\n",
              "      <th>curr_value</th>\n",
              "      <th>curr_id</th>\n",
              "      <th>comp_from_id</th>\n",
              "      <th>comp_from_name</th>\n",
              "      <th>comp_from_type</th>\n",
              "      <th>comp_from_agent</th>\n",
              "      <th>comp_from_operator</th>\n",
              "      <th>comp_from_manufaturer</th>\n",
              "      <th>comp_to_id</th>\n",
              "      <th>comp_to_name</th>\n",
              "      <th>service_details</th>\n",
              "      <th>aircrat_id</th>\n",
              "      <th>aicraft_size</th>\n",
              "    </tr>\n",
              "  </thead>\n",
              "  <tbody>\n",
              "    <tr>\n",
              "      <th>0</th>\n",
              "      <td>854171</td>\n",
              "      <td>2020-08-18</td>\n",
              "      <td>{70}</td>\n",
              "      <td>70</td>\n",
              "      <td>1</td>\n",
              "      <td>10.50</td>\n",
              "      <td>1</td>\n",
              "      <td>158</td>\n",
              "      <td>SBA Flight Support Services Ltd</td>\n",
              "      <td>independent</td>\n",
              "      <td>True</td>\n",
              "      <td>True</td>\n",
              "      <td>False</td>\n",
              "      <td>3605</td>\n",
              "      <td>Jet Capital Aviation S.A.</td>\n",
              "      <td>WASTE REMOVING (PER BAG) (V-3)</td>\n",
              "      <td>173</td>\n",
              "      <td>medium</td>\n",
              "    </tr>\n",
              "    <tr>\n",
              "      <th>1</th>\n",
              "      <td>854164</td>\n",
              "      <td>2020-08-18</td>\n",
              "      <td>{70}</td>\n",
              "      <td>70</td>\n",
              "      <td>1</td>\n",
              "      <td>66.14</td>\n",
              "      <td>1</td>\n",
              "      <td>158</td>\n",
              "      <td>SBA Flight Support Services Ltd</td>\n",
              "      <td>independent</td>\n",
              "      <td>True</td>\n",
              "      <td>True</td>\n",
              "      <td>False</td>\n",
              "      <td>3605</td>\n",
              "      <td>Jet Capital Aviation S.A.</td>\n",
              "      <td>LAUNDRY</td>\n",
              "      <td>173</td>\n",
              "      <td>medium</td>\n",
              "    </tr>\n",
              "    <tr>\n",
              "      <th>2</th>\n",
              "      <td>854170</td>\n",
              "      <td>2020-08-18</td>\n",
              "      <td>{43}</td>\n",
              "      <td>43</td>\n",
              "      <td>1</td>\n",
              "      <td>265.00</td>\n",
              "      <td>1</td>\n",
              "      <td>158</td>\n",
              "      <td>SBA Flight Support Services Ltd</td>\n",
              "      <td>independent</td>\n",
              "      <td>True</td>\n",
              "      <td>True</td>\n",
              "      <td>False</td>\n",
              "      <td>3605</td>\n",
              "      <td>Jet Capital Aviation S.A.</td>\n",
              "      <td>TOWING UP TO 500M (V-3)</td>\n",
              "      <td>173</td>\n",
              "      <td>medium</td>\n",
              "    </tr>\n",
              "    <tr>\n",
              "      <th>3</th>\n",
              "      <td>854172</td>\n",
              "      <td>2020-08-18</td>\n",
              "      <td>{71}</td>\n",
              "      <td>71</td>\n",
              "      <td>1</td>\n",
              "      <td>300.00</td>\n",
              "      <td>1</td>\n",
              "      <td>158</td>\n",
              "      <td>SBA Flight Support Services Ltd</td>\n",
              "      <td>independent</td>\n",
              "      <td>True</td>\n",
              "      <td>True</td>\n",
              "      <td>False</td>\n",
              "      <td>3605</td>\n",
              "      <td>Jet Capital Aviation S.A.</td>\n",
              "      <td>LAVATORY SERVICE (V-3)</td>\n",
              "      <td>173</td>\n",
              "      <td>medium</td>\n",
              "    </tr>\n",
              "    <tr>\n",
              "      <th>4</th>\n",
              "      <td>854183</td>\n",
              "      <td>2020-08-18</td>\n",
              "      <td>{73}</td>\n",
              "      <td>73</td>\n",
              "      <td>1</td>\n",
              "      <td>85.00</td>\n",
              "      <td>1</td>\n",
              "      <td>158</td>\n",
              "      <td>SBA Flight Support Services Ltd</td>\n",
              "      <td>independent</td>\n",
              "      <td>True</td>\n",
              "      <td>True</td>\n",
              "      <td>False</td>\n",
              "      <td>3605</td>\n",
              "      <td>Jet Capital Aviation S.A.</td>\n",
              "      <td>AIRCRAFT TECHNICAL ASSISTANCE PER DEP (V-3)</td>\n",
              "      <td>173</td>\n",
              "      <td>medium</td>\n",
              "    </tr>\n",
              "    <tr>\n",
              "      <th>...</th>\n",
              "      <td>...</td>\n",
              "      <td>...</td>\n",
              "      <td>...</td>\n",
              "      <td>...</td>\n",
              "      <td>...</td>\n",
              "      <td>...</td>\n",
              "      <td>...</td>\n",
              "      <td>...</td>\n",
              "      <td>...</td>\n",
              "      <td>...</td>\n",
              "      <td>...</td>\n",
              "      <td>...</td>\n",
              "      <td>...</td>\n",
              "      <td>...</td>\n",
              "      <td>...</td>\n",
              "      <td>...</td>\n",
              "      <td>...</td>\n",
              "      <td>...</td>\n",
              "    </tr>\n",
              "    <tr>\n",
              "      <th>550227</th>\n",
              "      <td>862509</td>\n",
              "      <td>2020-10-14</td>\n",
              "      <td>{59}</td>\n",
              "      <td>59</td>\n",
              "      <td>1</td>\n",
              "      <td>2.00</td>\n",
              "      <td>1</td>\n",
              "      <td>4360</td>\n",
              "      <td>Universal Aviation Italy S.r.l.</td>\n",
              "      <td>company</td>\n",
              "      <td>False</td>\n",
              "      <td>False</td>\n",
              "      <td>False</td>\n",
              "      <td>5471</td>\n",
              "      <td>Premium Jet AG</td>\n",
              "      <td>Additional passenger charge L 350/2003</td>\n",
              "      <td>171</td>\n",
              "      <td>medium</td>\n",
              "    </tr>\n",
              "    <tr>\n",
              "      <th>550228</th>\n",
              "      <td>862516</td>\n",
              "      <td>2020-10-14</td>\n",
              "      <td>{59}</td>\n",
              "      <td>59</td>\n",
              "      <td>1</td>\n",
              "      <td>1.00</td>\n",
              "      <td>1</td>\n",
              "      <td>4360</td>\n",
              "      <td>Universal Aviation Italy S.r.l.</td>\n",
              "      <td>company</td>\n",
              "      <td>False</td>\n",
              "      <td>False</td>\n",
              "      <td>False</td>\n",
              "      <td>5471</td>\n",
              "      <td>Premium Jet AG</td>\n",
              "      <td>Additional passenger charge L296/2006</td>\n",
              "      <td>171</td>\n",
              "      <td>medium</td>\n",
              "    </tr>\n",
              "    <tr>\n",
              "      <th>550229</th>\n",
              "      <td>862525</td>\n",
              "      <td>2020-10-14</td>\n",
              "      <td>{59}</td>\n",
              "      <td>59</td>\n",
              "      <td>1</td>\n",
              "      <td>4.00</td>\n",
              "      <td>1</td>\n",
              "      <td>4360</td>\n",
              "      <td>Universal Aviation Italy S.r.l.</td>\n",
              "      <td>company</td>\n",
              "      <td>False</td>\n",
              "      <td>False</td>\n",
              "      <td>False</td>\n",
              "      <td>5471</td>\n",
              "      <td>Premium Jet AG</td>\n",
              "      <td>Additional passenger charge L92/2012</td>\n",
              "      <td>171</td>\n",
              "      <td>medium</td>\n",
              "    </tr>\n",
              "    <tr>\n",
              "      <th>550230</th>\n",
              "      <td>763683</td>\n",
              "      <td>2018-12-26</td>\n",
              "      <td>{130}</td>\n",
              "      <td>130</td>\n",
              "      <td>1</td>\n",
              "      <td>500.00</td>\n",
              "      <td>1</td>\n",
              "      <td>4602</td>\n",
              "      <td>Jet Source FZE</td>\n",
              "      <td>independent</td>\n",
              "      <td>False</td>\n",
              "      <td>False</td>\n",
              "      <td>False</td>\n",
              "      <td>6016</td>\n",
              "      <td>Flights Holdings Limited</td>\n",
              "      <td>5 / Business trip / Movement from Homebase to ...</td>\n",
              "      <td>191</td>\n",
              "      <td>medium</td>\n",
              "    </tr>\n",
              "    <tr>\n",
              "      <th>550231</th>\n",
              "      <td>833744</td>\n",
              "      <td>2020-07-16</td>\n",
              "      <td>{3}</td>\n",
              "      <td>3</td>\n",
              "      <td>1</td>\n",
              "      <td>435.20</td>\n",
              "      <td>4</td>\n",
              "      <td>2175</td>\n",
              "      <td>Signature Flight Support London Luton Ltd</td>\n",
              "      <td>independent</td>\n",
              "      <td>False</td>\n",
              "      <td>False</td>\n",
              "      <td>False</td>\n",
              "      <td>1779</td>\n",
              "      <td>Global Jet Luxembourg SA</td>\n",
              "      <td>Jet A-1 Platts</td>\n",
              "      <td>331</td>\n",
              "      <td>medium</td>\n",
              "    </tr>\n",
              "  </tbody>\n",
              "</table>\n",
              "<p>550232 rows × 18 columns</p>\n",
              "</div>"
            ],
            "text/plain": [
              "            id    doc_date  ... aircrat_id  aicraft_size\n",
              "0       854171  2020-08-18  ...        173        medium\n",
              "1       854164  2020-08-18  ...        173        medium\n",
              "2       854170  2020-08-18  ...        173        medium\n",
              "3       854172  2020-08-18  ...        173        medium\n",
              "4       854183  2020-08-18  ...        173        medium\n",
              "...        ...         ...  ...        ...           ...\n",
              "550227  862509  2020-10-14  ...        171        medium\n",
              "550228  862516  2020-10-14  ...        171        medium\n",
              "550229  862525  2020-10-14  ...        171        medium\n",
              "550230  763683  2018-12-26  ...        191        medium\n",
              "550231  833744  2020-07-16  ...        331        medium\n",
              "\n",
              "[550232 rows x 18 columns]"
            ]
          },
          "metadata": {
            "tags": []
          },
          "execution_count": 52
        }
      ]
    },
    {
      "cell_type": "code",
      "metadata": {
        "colab": {
          "base_uri": "https://localhost:8080/"
        },
        "id": "8734md4V2aa6",
        "outputId": "d2964650-4a1b-418c-ba18-9eea6b31f86e"
      },
      "source": [
        "encoder.fit_transform(data_lim.cost_root_id)"
      ],
      "execution_count": null,
      "outputs": [
        {
          "output_type": "execute_result",
          "data": {
            "text/plain": [
              "array([46, 46, 23, ..., 37, 89,  0])"
            ]
          },
          "metadata": {
            "tags": []
          },
          "execution_count": 124
        }
      ]
    },
    {
      "cell_type": "code",
      "metadata": {
        "colab": {
          "base_uri": "https://localhost:8080/"
        },
        "id": "aXkV13M200XW",
        "outputId": "b5d7f111-6d62-4fd2-d5e7-bf1da9ff5764"
      },
      "source": [
        "from sklearn.preprocessing import LabelBinarizer\n",
        "encoder = LabelBinarizer()\n",
        "encoder.fit_transform(data_lim.cost_root_id)"
      ],
      "execution_count": null,
      "outputs": [
        {
          "output_type": "execute_result",
          "data": {
            "text/plain": [
              "array([[0, 0, 0, ..., 0, 0, 0],\n",
              "       [0, 0, 0, ..., 0, 0, 0],\n",
              "       [0, 0, 0, ..., 0, 0, 0],\n",
              "       ...,\n",
              "       [0, 0, 0, ..., 0, 0, 0],\n",
              "       [0, 0, 0, ..., 0, 0, 0],\n",
              "       [1, 0, 0, ..., 0, 0, 0]])"
            ]
          },
          "metadata": {
            "tags": []
          },
          "execution_count": 126
        }
      ]
    },
    {
      "cell_type": "code",
      "source": [
        ""
      ],
      "metadata": {
        "id": "0tu2RSM85c3L"
      },
      "execution_count": null,
      "outputs": []
    },
    {
      "cell_type": "code",
      "metadata": {
        "colab": {
          "base_uri": "https://localhost:8080/"
        },
        "id": "-InkSUQpt0Pe",
        "outputId": "179921b9-d3ce-4dd3-ab24-cf532a819eeb"
      },
      "source": [
        "from keras.utils.np_utils import to_categorical\n",
        "categorical_labels = to_categorical(data_lim.cost_root_id.values, num_classes=None)\n",
        "categorical_labels[0]"
      ],
      "execution_count": null,
      "outputs": [
        {
          "output_type": "execute_result",
          "data": {
            "text/plain": [
              "array([0., 0., 0., 0., 0., 0., 0., 0., 0., 0., 0., 0., 0., 0., 0., 0., 0.,\n",
              "       0., 0., 0., 0., 0., 0., 0., 0., 0., 0., 0., 0., 0., 0., 0., 0., 0.,\n",
              "       0., 0., 0., 0., 0., 0., 0., 0., 0., 0., 0., 0., 0., 0., 0., 0., 0.,\n",
              "       0., 0., 0., 0., 0., 0., 0., 0., 0., 0., 0., 0., 0., 0., 0., 0., 0.,\n",
              "       0., 0., 1., 0., 0., 0., 0., 0., 0., 0., 0., 0., 0., 0., 0., 0., 0.,\n",
              "       0., 0., 0., 0., 0., 0., 0., 0., 0., 0., 0., 0., 0., 0., 0., 0., 0.,\n",
              "       0., 0., 0., 0., 0., 0., 0., 0., 0., 0., 0., 0., 0., 0., 0., 0., 0.,\n",
              "       0., 0., 0., 0., 0., 0., 0., 0., 0., 0., 0., 0., 0., 0., 0., 0., 0.,\n",
              "       0., 0., 0., 0., 0., 0., 0., 0., 0., 0., 0., 0., 0., 0., 0., 0., 0.,\n",
              "       0., 0., 0., 0., 0., 0., 0., 0., 0., 0., 0., 0., 0., 0., 0., 0., 0.,\n",
              "       0., 0., 0., 0., 0., 0., 0., 0., 0., 0., 0., 0., 0., 0., 0., 0., 0.,\n",
              "       0., 0., 0., 0., 0., 0., 0., 0., 0., 0., 0., 0., 0., 0., 0., 0., 0.,\n",
              "       0., 0., 0., 0., 0., 0., 0., 0., 0., 0., 0., 0., 0., 0., 0., 0., 0.,\n",
              "       0., 0., 0., 0., 0., 0., 0., 0., 0., 0., 0., 0., 0., 0., 0., 0., 0.,\n",
              "       0., 0., 0., 0., 0., 0., 0., 0., 0., 0., 0., 0., 0., 0., 0., 0., 0.,\n",
              "       0., 0., 0., 0., 0., 0., 0., 0., 0., 0., 0., 0., 0., 0., 0., 0., 0.,\n",
              "       0., 0., 0., 0., 0., 0., 0., 0., 0., 0., 0., 0., 0., 0., 0., 0., 0.,\n",
              "       0., 0., 0., 0., 0., 0., 0., 0., 0., 0., 0., 0., 0., 0., 0., 0., 0.,\n",
              "       0., 0., 0., 0., 0., 0., 0., 0., 0., 0., 0., 0., 0., 0., 0., 0., 0.,\n",
              "       0., 0., 0., 0., 0., 0., 0., 0., 0., 0., 0., 0., 0., 0., 0., 0., 0.,\n",
              "       0., 0., 0., 0., 0., 0., 0., 0., 0., 0., 0., 0., 0., 0., 0., 0., 0.,\n",
              "       0., 0., 0., 0., 0., 0., 0., 0., 0., 0., 0., 0., 0., 0., 0., 0., 0.,\n",
              "       0., 0., 0., 0., 0., 0., 0., 0., 0., 0., 0., 0., 0., 0., 0., 0., 0.,\n",
              "       0., 0., 0., 0., 0., 0., 0., 0., 0., 0., 0., 0., 0., 0., 0., 0., 0.,\n",
              "       0., 0., 0., 0., 0., 0., 0., 0., 0., 0., 0., 0., 0., 0., 0., 0., 0.,\n",
              "       0., 0., 0., 0., 0., 0., 0., 0., 0., 0., 0., 0., 0., 0., 0., 0., 0.,\n",
              "       0., 0., 0., 0., 0., 0., 0., 0., 0., 0., 0., 0., 0., 0., 0., 0., 0.,\n",
              "       0., 0., 0., 0., 0., 0., 0., 0., 0., 0., 0., 0., 0., 0., 0., 0., 0.,\n",
              "       0., 0., 0., 0., 0., 0., 0., 0., 0., 0., 0., 0., 0., 0., 0., 0., 0.,\n",
              "       0., 0., 0., 0., 0., 0., 0., 0.], dtype=float32)"
            ]
          },
          "metadata": {
            "tags": []
          },
          "execution_count": 22
        }
      ]
    },
    {
      "cell_type": "code",
      "metadata": {
        "colab": {
          "base_uri": "https://localhost:8080/"
        },
        "id": "0HoHvdAasmlv",
        "outputId": "af542554-7c1f-4412-d4d2-3fa7d2dfc530"
      },
      "source": [
        "data_lim.cost_root_id.unique()"
      ],
      "execution_count": null,
      "outputs": [
        {
          "output_type": "execute_result",
          "data": {
            "text/plain": [
              "array([ 70,  43,  71,  73,  55,  82,   4, 101, 116,  30,  22,   9,  32,\n",
              "        96,  35,  21, 100, 258, 125, 104,  52, 259, 123,  62,  85,  44,\n",
              "        59, 243, 124,  51,  53,  34,  50,  99,  39,  91,  20,  84,  47,\n",
              "        16,  69,  90,  94,   3,  72,  98,  48,  33, 244,  27,  74,  75,\n",
              "        58, 127,  29,  45,  56,  15,  97,  25,  89,  26, 103, 255, 105,\n",
              "       130,  87,  61,  83,  60,  68,  78, 262,  57, 225, 112, 224,  64,\n",
              "       117, 226, 294,  40, 115, 254, 239, 253, 126,  67, 252,  49,  86,\n",
              "       287, 500, 109,  12,  41,  92, 257, 196, 241, 232, 120, 159, 171,\n",
              "       149, 131, 165,  77,  76, 132, 242, 164, 152, 169, 151,  95, 134,\n",
              "       256, 121, 178, 155, 129, 156, 173,  63, 160, 163, 162,  10, 158,\n",
              "        18, 166, 153])"
            ]
          },
          "metadata": {
            "tags": []
          },
          "execution_count": 26
        }
      ]
    },
    {
      "cell_type": "code",
      "metadata": {
        "id": "rEEMxzWC3Tac"
      },
      "source": [
        "def cost_articls_to_classes(data, ignored_cost_articles):\n",
        "  ids_list = {}\n"
      ],
      "execution_count": null,
      "outputs": []
    },
    {
      "cell_type": "code",
      "metadata": {
        "id": "KCcS85qfjPni"
      },
      "source": [
        "X_train, X_val = train_test_split(data_lim, test_size=0.2, random_state=42)"
      ],
      "execution_count": null,
      "outputs": []
    },
    {
      "cell_type": "code",
      "metadata": {
        "id": "_3M_oJz3jf6N"
      },
      "source": [
        "train = data_lim.sample(frac=0.8,random_state=0)\n",
        "val = data_lim.drop(index=train.index)"
      ],
      "execution_count": null,
      "outputs": []
    },
    {
      "cell_type": "code",
      "metadata": {
        "id": "7DLY7jPnjzl6"
      },
      "source": [
        "train_ds = tf.data.Dataset.from_tensor_slices((train[\"service_details\"], train[\"cost_root_id\"]))\n",
        "val_ds = tf.data.Dataset.from_tensor_slices((val[\"service_details\"], val[\"cost_root_id\"]))"
      ],
      "execution_count": null,
      "outputs": []
    },
    {
      "cell_type": "code",
      "metadata": {
        "id": "dnt3AwpM9VFG"
      },
      "source": [
        ""
      ],
      "execution_count": null,
      "outputs": []
    },
    {
      "cell_type": "code",
      "metadata": {
        "id": "GjeOsQqVj0tn"
      },
      "source": [
        "batch_size = 8"
      ],
      "execution_count": null,
      "outputs": []
    },
    {
      "cell_type": "code",
      "metadata": {
        "id": "qPWF5Uo6kOd9"
      },
      "source": [
        "def clear_punct(entry):\n",
        "    line = tf.strings.regex_replace(entry['sentence'], \"\\.\\.+\", \"\\.\", replace_global=True)\n",
        "    line = tf.strings.regex_replace(line, \"\\s\\s+\", \"\\s\", replace_global=True)\n",
        "    line = tf.strings.regex_replace(line, \"\\\\n\", \"\", replace_global=True)\n",
        "    entry['sentence'] = line\n",
        "    return features"
      ],
      "execution_count": null,
      "outputs": []
    },
    {
      "cell_type": "code",
      "metadata": {
        "id": "d7pULVpGljYJ"
      },
      "source": [
        "def map_example_to_dict(input_ids, attention_masks, token_type_ids, label):\n",
        "      # print(label)\n",
        "      return {\n",
        "      \"input_ids\": input_ids,\n",
        "      \"token_type_ids\": token_type_ids,\n",
        "      \"attention_mask\": attention_masks,\n",
        "      }, label"
      ],
      "execution_count": null,
      "outputs": []
    },
    {
      "cell_type": "code",
      "metadata": {
        "id": "Jjr2For-l-_A"
      },
      "source": [
        "def encode_examples(ds, encoder, limit=-1):\n",
        "    \n",
        "    input_ids_list = []\n",
        "    token_type_ids_list = []\n",
        "    attention_mask_list = []\n",
        "    label_list = []\n",
        "    if (limit > 0):\n",
        "        ds = ds.take(limit)\n",
        "    max_length_test = 64\n",
        "    for line, label in tfds.as_numpy(ds):\n",
        "      \n",
        "      bert_input = tokenizer.encode_plus(\n",
        "                      line.decode(),                      \n",
        "                      add_special_tokens = True,\n",
        "                      max_length = max_length_test,\n",
        "                      padding='max_length',\n",
        "                      return_attention_mask = True,\n",
        "                      truncation=True\n",
        "            )\n",
        "    \n",
        "      input_ids_list.append(bert_input['input_ids'])\n",
        "      token_type_ids_list.append(bert_input['token_type_ids'])\n",
        "      attention_mask_list.append(bert_input['attention_mask'])\n",
        "      label_list.append(label)\n",
        "    \n",
        "    print(encoder.transform(label_list).shape)\n",
        "    return tf.data.Dataset.from_tensor_slices((input_ids_list, attention_mask_list, token_type_ids_list, encoder.transform(label_list))).map(map_example_to_dict)"
      ],
      "execution_count": null,
      "outputs": []
    },
    {
      "cell_type": "code",
      "metadata": {
        "id": "FCxcbeWa_Y1V"
      },
      "source": [
        "class Cat_to_labels:\n",
        "  def __init__(self, labels):\n",
        "    self.n_labels = len(labels)\n",
        "    self.labels_dict = {}\n",
        "    for i, label in enumerate(labels):\n",
        "      self.labels_dict[label] = i\n",
        "\n",
        "  def fit_transform(self, labels):\n"
      ],
      "execution_count": null,
      "outputs": []
    },
    {
      "cell_type": "code",
      "metadata": {
        "id": "P-ZqV4HrpOk-"
      },
      "source": [
        "tokenizer = BertTokenizer.from_pretrained('bert-base-multilingual-uncased', do_lower_case=True)"
      ],
      "execution_count": null,
      "outputs": []
    },
    {
      "cell_type": "code",
      "metadata": {
        "colab": {
          "base_uri": "https://localhost:8080/"
        },
        "id": "qn6gPhlM6ZJB",
        "outputId": "d241358f-1ba0-45a3-e56a-aec6df4744ad"
      },
      "source": [
        "train_ds.take(1000)"
      ],
      "execution_count": null,
      "outputs": [
        {
          "output_type": "execute_result",
          "data": {
            "text/plain": [
              "<TakeDataset shapes: ((), ()), types: (tf.string, tf.int64)>"
            ]
          },
          "metadata": {
            "tags": []
          },
          "execution_count": 100
        }
      ]
    },
    {
      "cell_type": "code",
      "metadata": {
        "id": "A_FGUdyeCZOh"
      },
      "source": [
        "encoder = LabelBinarizer()"
      ],
      "execution_count": null,
      "outputs": []
    },
    {
      "cell_type": "code",
      "metadata": {
        "colab": {
          "base_uri": "https://localhost:8080/"
        },
        "id": "0nUlAtK0At-6",
        "outputId": "2d0f50ea-6608-4ad3-f450-6405ac418d4d"
      },
      "source": [
        "encoder.fit(data_lim.cost_root_id.unique())"
      ],
      "execution_count": null,
      "outputs": [
        {
          "output_type": "execute_result",
          "data": {
            "text/plain": [
              "LabelBinarizer(neg_label=0, pos_label=1, sparse_output=False)"
            ]
          },
          "metadata": {
            "tags": []
          },
          "execution_count": 168
        }
      ]
    },
    {
      "cell_type": "code",
      "metadata": {
        "colab": {
          "base_uri": "https://localhost:8080/"
        },
        "id": "T7elu3weBMcO",
        "outputId": "52828333-cc74-47e4-b65b-7ae976855fcb"
      },
      "source": [
        "len(encoder.classes_)"
      ],
      "execution_count": null,
      "outputs": [
        {
          "output_type": "execute_result",
          "data": {
            "text/plain": [
              "134"
            ]
          },
          "metadata": {
            "tags": []
          },
          "execution_count": 169
        }
      ]
    },
    {
      "cell_type": "code",
      "metadata": {
        "colab": {
          "base_uri": "https://localhost:8080/"
        },
        "id": "q-i8zUX8B62W",
        "outputId": "99873886-5d8a-4fcc-ca8e-8713cfcfd5df"
      },
      "source": [
        "encoder.transform([1, 6])"
      ],
      "execution_count": null,
      "outputs": [
        {
          "output_type": "execute_result",
          "data": {
            "text/plain": [
              "array([[0, 0, 0, 0, 0, 0, 0, 0, 0, 0, 0, 0, 0, 0, 0, 0, 0, 0, 0, 0, 0, 0,\n",
              "        0, 0, 0, 0, 0, 0, 0, 0, 0, 0, 0, 0, 0, 0, 0, 0, 0, 0, 0, 0, 0, 0,\n",
              "        0, 0, 0, 0, 0, 0, 0, 0, 0, 0, 0, 0, 0, 0, 0, 0, 0, 0, 0, 0, 0, 0,\n",
              "        0, 0, 0, 0, 0, 0, 0, 0, 0, 0, 0, 0, 0, 0, 0, 0, 0, 0, 0, 0, 0, 0,\n",
              "        0, 0, 0, 0, 0, 0, 0, 0, 0, 0, 0, 0, 0, 0, 0, 0, 0, 0, 0, 0, 0, 0,\n",
              "        0, 0, 0, 0, 0, 0, 0, 0, 0, 0, 0, 0, 0, 0, 0, 0, 0, 0, 0, 0, 0, 0,\n",
              "        0, 0],\n",
              "       [0, 0, 0, 0, 0, 0, 0, 0, 0, 0, 0, 0, 0, 0, 0, 0, 0, 0, 0, 0, 0, 0,\n",
              "        0, 0, 0, 0, 0, 0, 0, 0, 0, 0, 0, 0, 0, 0, 0, 0, 0, 0, 0, 0, 0, 0,\n",
              "        0, 0, 0, 0, 0, 0, 0, 0, 0, 0, 0, 0, 0, 0, 0, 0, 0, 0, 0, 0, 0, 0,\n",
              "        0, 0, 0, 0, 0, 0, 0, 0, 0, 0, 0, 0, 0, 0, 0, 0, 0, 0, 0, 0, 0, 0,\n",
              "        0, 0, 0, 0, 0, 0, 0, 0, 0, 0, 0, 0, 0, 0, 0, 0, 0, 0, 0, 0, 0, 0,\n",
              "        0, 0, 0, 0, 0, 0, 0, 0, 0, 0, 0, 0, 0, 0, 0, 0, 0, 0, 0, 0, 0, 0,\n",
              "        0, 0]])"
            ]
          },
          "metadata": {
            "tags": []
          },
          "execution_count": 170
        }
      ]
    },
    {
      "cell_type": "code",
      "metadata": {
        "colab": {
          "base_uri": "https://localhost:8080/"
        },
        "id": "QqkAH5HXB_Wh",
        "outputId": "c52ad397-a7de-4514-9006-1420cda83751"
      },
      "source": [
        "len([0, 0, 0, 0, 0, 0, 0, 0, 0, 0, 0, 0, 0, 0, 0, 0, 0, 0, 0, 0, 0, 0,\n",
        "        0, 0, 0, 0, 0, 0, 0, 0, 0, 0, 0, 0, 0, 0, 0, 0, 0, 0, 0, 0, 0, 0,\n",
        "        0, 0, 0, 0, 0, 0, 0, 0, 0, 0, 0, 0, 0, 0, 0, 0, 0, 0, 0, 0, 0, 0,\n",
        "        0, 0, 0, 0, 0, 0, 0, 0, 0, 0, 0, 0, 0, 0, 0, 0, 0, 0, 0, 0, 0, 0,\n",
        "        0, 0, 0, 0, 0, 0, 0, 0, 0, 0, 0, 0, 0, 0, 0, 0, 0, 0, 0, 0, 0, 0,\n",
        "        0, 0, 0, 0, 0, 0, 0, 0, 0, 0, 0, 0, 0, 0, 0, 0, 0, 0, 0, 0, 0, 0,\n",
        "        0, 0])"
      ],
      "execution_count": null,
      "outputs": [
        {
          "output_type": "execute_result",
          "data": {
            "text/plain": [
              "134"
            ]
          },
          "metadata": {
            "tags": []
          },
          "execution_count": 160
        }
      ]
    },
    {
      "cell_type": "code",
      "metadata": {
        "colab": {
          "base_uri": "https://localhost:8080/"
        },
        "id": "OomzfFNvmB09",
        "outputId": "6191b684-421d-4dc1-b93b-a50424b230f3"
      },
      "source": [
        "train_ds_encoded = encode_examples(train_ds.take(1000), encoder)\n",
        "val_ds_encoded = encode_examples(val_ds.take(1000), encoder)\n",
        "\n",
        "train_ds_encoded = train_ds_encoded.shuffle(1000).batch(batch_size)\n",
        "val_ds_encoded = val_ds_encoded.shuffle(1000).batch(batch_size)"
      ],
      "execution_count": null,
      "outputs": [
        {
          "output_type": "stream",
          "text": [
            "(1000, 134)\n",
            "(1000, 134)\n"
          ],
          "name": "stdout"
        }
      ]
    },
    {
      "cell_type": "code",
      "metadata": {
        "colab": {
          "base_uri": "https://localhost:8080/"
        },
        "id": "tRzzJZeyGDv5",
        "outputId": "c468ee44-5120-41aa-c992-6ff8b31911a2"
      },
      "source": [
        "train_ds_encoded = encode_examples(train_ds, encoder)\n",
        "val_ds_encoded = encode_examples(val_ds, encoder)\n",
        "\n",
        "train_ds_encoded = train_ds_encoded.shuffle(10000).batch(batch_size)\n",
        "val_ds_encoded = val_ds_encoded.shuffle(10000).batch(batch_size)"
      ],
      "execution_count": null,
      "outputs": [
        {
          "output_type": "stream",
          "text": [
            "(440186, 134)\n",
            "(110046, 134)\n"
          ],
          "name": "stdout"
        }
      ]
    },
    {
      "cell_type": "code",
      "metadata": {
        "colab": {
          "base_uri": "https://localhost:8080/"
        },
        "id": "jBQA_957ziVt",
        "outputId": "8cdfe001-0834-439b-f631-b195bdb210f7"
      },
      "source": [
        "type(train_ds_encoded)"
      ],
      "execution_count": null,
      "outputs": [
        {
          "output_type": "execute_result",
          "data": {
            "text/plain": [
              "tensorflow.python.data.ops.dataset_ops.BatchDataset"
            ]
          },
          "metadata": {
            "tags": []
          },
          "execution_count": 51
        }
      ]
    },
    {
      "cell_type": "code",
      "metadata": {
        "colab": {
          "base_uri": "https://localhost:8080/"
        },
        "id": "FvZc2s8WzQLX",
        "outputId": "154165aa-e4ba-4e7e-9a04-72d50b3abcf1"
      },
      "source": [
        "for sample in train_ds_encoded.take(1):\n",
        "  print(sample)"
      ],
      "execution_count": null,
      "outputs": [
        {
          "output_type": "stream",
          "text": [
            "({'input_ids': <tf.Tensor: shape=(8, 64), dtype=int32, numpy=\n",
            "array([[  101, 10288,   119, 10454,   119, 10520, 18203, 21205,   113,\n",
            "        14956, 14013, 10900, 45158, 11388,   118,   149, 53806, 12027,\n",
            "          114,   102,     0,     0,     0,     0,     0,     0,     0,\n",
            "            0,     0,     0,     0,     0,     0,     0,     0,     0,\n",
            "            0,     0,     0,     0,     0,     0,     0,     0,     0,\n",
            "            0,     0,     0,     0,     0,     0,     0,     0,     0,\n",
            "            0,     0,     0,     0,     0,     0,     0,     0,     0,\n",
            "            0],\n",
            "       [  101, 10264,   120, 10717, 10912,   102,     0,     0,     0,\n",
            "            0,     0,     0,     0,     0,     0,     0,     0,     0,\n",
            "            0,     0,     0,     0,     0,     0,     0,     0,     0,\n",
            "            0,     0,     0,     0,     0,     0,     0,     0,     0,\n",
            "            0,     0,     0,     0,     0,     0,     0,     0,     0,\n",
            "            0,     0,     0,     0,     0,     0,     0,     0,     0,\n",
            "            0,     0,     0,     0,     0,     0,     0,     0,     0,\n",
            "            0],\n",
            "       [  101, 10284,   119, 10454,   119, 24279, 94613,   120, 41083,\n",
            "        10517, 11160, 31979, 91753, 11123,   102,     0,     0,     0,\n",
            "            0,     0,     0,     0,     0,     0,     0,     0,     0,\n",
            "            0,     0,     0,     0,     0,     0,     0,     0,     0,\n",
            "            0,     0,     0,     0,     0,     0,     0,     0,     0,\n",
            "            0,     0,     0,     0,     0,     0,     0,     0,     0,\n",
            "            0,     0,     0,     0,     0,     0,     0,     0,     0,\n",
            "            0],\n",
            "       [  101, 19432,   143,   120,   158,   118, 24675, 10115,   102,\n",
            "            0,     0,     0,     0,     0,     0,     0,     0,     0,\n",
            "            0,     0,     0,     0,     0,     0,     0,     0,     0,\n",
            "            0,     0,     0,     0,     0,     0,     0,     0,     0,\n",
            "            0,     0,     0,     0,     0,     0,     0,     0,     0,\n",
            "            0,     0,     0,     0,     0,     0,     0,     0,     0,\n",
            "            0,     0,     0,     0,     0,     0,     0,     0,     0,\n",
            "            0],\n",
            "       [  101, 10412,   119, 10914,   119, 10256, 13579, 45159,   120,\n",
            "          158,   117, 18768, 69662, 11044, 11397, 17067, 17662,   117,\n",
            "        10125,   118, 11585, 20041, 38820,   102,     0,     0,     0,\n",
            "            0,     0,     0,     0,     0,     0,     0,     0,     0,\n",
            "            0,     0,     0,     0,     0,     0,     0,     0,     0,\n",
            "            0,     0,     0,     0,     0,     0,     0,     0,     0,\n",
            "            0,     0,     0,     0,     0,     0,     0,     0,     0,\n",
            "            0],\n",
            "       [  101, 10259,   119, 10684,   119, 20657,   170, 44765,   117,\n",
            "        66441, 21617,   170, 12752,   102,     0,     0,     0,     0,\n",
            "            0,     0,     0,     0,     0,     0,     0,     0,     0,\n",
            "            0,     0,     0,     0,     0,     0,     0,     0,     0,\n",
            "            0,     0,     0,     0,     0,     0,     0,     0,     0,\n",
            "            0,     0,     0,     0,     0,     0,     0,     0,     0,\n",
            "            0,     0,     0,     0,     0,     0,     0,     0,     0,\n",
            "            0],\n",
            "       [  101, 35496, 38820,   118, 21835, 10373,   102,     0,     0,\n",
            "            0,     0,     0,     0,     0,     0,     0,     0,     0,\n",
            "            0,     0,     0,     0,     0,     0,     0,     0,     0,\n",
            "            0,     0,     0,     0,     0,     0,     0,     0,     0,\n",
            "            0,     0,     0,     0,     0,     0,     0,     0,     0,\n",
            "            0,     0,     0,     0,     0,     0,     0,     0,     0,\n",
            "            0,     0,     0,     0,     0,     0,     0,     0,     0,\n",
            "            0],\n",
            "       [  101, 24304, 32837,   102,     0,     0,     0,     0,     0,\n",
            "            0,     0,     0,     0,     0,     0,     0,     0,     0,\n",
            "            0,     0,     0,     0,     0,     0,     0,     0,     0,\n",
            "            0,     0,     0,     0,     0,     0,     0,     0,     0,\n",
            "            0,     0,     0,     0,     0,     0,     0,     0,     0,\n",
            "            0,     0,     0,     0,     0,     0,     0,     0,     0,\n",
            "            0,     0,     0,     0,     0,     0,     0,     0,     0,\n",
            "            0]], dtype=int32)>, 'token_type_ids': <tf.Tensor: shape=(8, 64), dtype=int32, numpy=\n",
            "array([[0, 0, 0, 0, 0, 0, 0, 0, 0, 0, 0, 0, 0, 0, 0, 0, 0, 0, 0, 0, 0, 0,\n",
            "        0, 0, 0, 0, 0, 0, 0, 0, 0, 0, 0, 0, 0, 0, 0, 0, 0, 0, 0, 0, 0, 0,\n",
            "        0, 0, 0, 0, 0, 0, 0, 0, 0, 0, 0, 0, 0, 0, 0, 0, 0, 0, 0, 0],\n",
            "       [0, 0, 0, 0, 0, 0, 0, 0, 0, 0, 0, 0, 0, 0, 0, 0, 0, 0, 0, 0, 0, 0,\n",
            "        0, 0, 0, 0, 0, 0, 0, 0, 0, 0, 0, 0, 0, 0, 0, 0, 0, 0, 0, 0, 0, 0,\n",
            "        0, 0, 0, 0, 0, 0, 0, 0, 0, 0, 0, 0, 0, 0, 0, 0, 0, 0, 0, 0],\n",
            "       [0, 0, 0, 0, 0, 0, 0, 0, 0, 0, 0, 0, 0, 0, 0, 0, 0, 0, 0, 0, 0, 0,\n",
            "        0, 0, 0, 0, 0, 0, 0, 0, 0, 0, 0, 0, 0, 0, 0, 0, 0, 0, 0, 0, 0, 0,\n",
            "        0, 0, 0, 0, 0, 0, 0, 0, 0, 0, 0, 0, 0, 0, 0, 0, 0, 0, 0, 0],\n",
            "       [0, 0, 0, 0, 0, 0, 0, 0, 0, 0, 0, 0, 0, 0, 0, 0, 0, 0, 0, 0, 0, 0,\n",
            "        0, 0, 0, 0, 0, 0, 0, 0, 0, 0, 0, 0, 0, 0, 0, 0, 0, 0, 0, 0, 0, 0,\n",
            "        0, 0, 0, 0, 0, 0, 0, 0, 0, 0, 0, 0, 0, 0, 0, 0, 0, 0, 0, 0],\n",
            "       [0, 0, 0, 0, 0, 0, 0, 0, 0, 0, 0, 0, 0, 0, 0, 0, 0, 0, 0, 0, 0, 0,\n",
            "        0, 0, 0, 0, 0, 0, 0, 0, 0, 0, 0, 0, 0, 0, 0, 0, 0, 0, 0, 0, 0, 0,\n",
            "        0, 0, 0, 0, 0, 0, 0, 0, 0, 0, 0, 0, 0, 0, 0, 0, 0, 0, 0, 0],\n",
            "       [0, 0, 0, 0, 0, 0, 0, 0, 0, 0, 0, 0, 0, 0, 0, 0, 0, 0, 0, 0, 0, 0,\n",
            "        0, 0, 0, 0, 0, 0, 0, 0, 0, 0, 0, 0, 0, 0, 0, 0, 0, 0, 0, 0, 0, 0,\n",
            "        0, 0, 0, 0, 0, 0, 0, 0, 0, 0, 0, 0, 0, 0, 0, 0, 0, 0, 0, 0],\n",
            "       [0, 0, 0, 0, 0, 0, 0, 0, 0, 0, 0, 0, 0, 0, 0, 0, 0, 0, 0, 0, 0, 0,\n",
            "        0, 0, 0, 0, 0, 0, 0, 0, 0, 0, 0, 0, 0, 0, 0, 0, 0, 0, 0, 0, 0, 0,\n",
            "        0, 0, 0, 0, 0, 0, 0, 0, 0, 0, 0, 0, 0, 0, 0, 0, 0, 0, 0, 0],\n",
            "       [0, 0, 0, 0, 0, 0, 0, 0, 0, 0, 0, 0, 0, 0, 0, 0, 0, 0, 0, 0, 0, 0,\n",
            "        0, 0, 0, 0, 0, 0, 0, 0, 0, 0, 0, 0, 0, 0, 0, 0, 0, 0, 0, 0, 0, 0,\n",
            "        0, 0, 0, 0, 0, 0, 0, 0, 0, 0, 0, 0, 0, 0, 0, 0, 0, 0, 0, 0]],\n",
            "      dtype=int32)>, 'attention_mask': <tf.Tensor: shape=(8, 64), dtype=int32, numpy=\n",
            "array([[1, 1, 1, 1, 1, 1, 1, 1, 1, 1, 1, 1, 1, 1, 1, 1, 1, 1, 1, 1, 0, 0,\n",
            "        0, 0, 0, 0, 0, 0, 0, 0, 0, 0, 0, 0, 0, 0, 0, 0, 0, 0, 0, 0, 0, 0,\n",
            "        0, 0, 0, 0, 0, 0, 0, 0, 0, 0, 0, 0, 0, 0, 0, 0, 0, 0, 0, 0],\n",
            "       [1, 1, 1, 1, 1, 1, 0, 0, 0, 0, 0, 0, 0, 0, 0, 0, 0, 0, 0, 0, 0, 0,\n",
            "        0, 0, 0, 0, 0, 0, 0, 0, 0, 0, 0, 0, 0, 0, 0, 0, 0, 0, 0, 0, 0, 0,\n",
            "        0, 0, 0, 0, 0, 0, 0, 0, 0, 0, 0, 0, 0, 0, 0, 0, 0, 0, 0, 0],\n",
            "       [1, 1, 1, 1, 1, 1, 1, 1, 1, 1, 1, 1, 1, 1, 1, 0, 0, 0, 0, 0, 0, 0,\n",
            "        0, 0, 0, 0, 0, 0, 0, 0, 0, 0, 0, 0, 0, 0, 0, 0, 0, 0, 0, 0, 0, 0,\n",
            "        0, 0, 0, 0, 0, 0, 0, 0, 0, 0, 0, 0, 0, 0, 0, 0, 0, 0, 0, 0],\n",
            "       [1, 1, 1, 1, 1, 1, 1, 1, 1, 0, 0, 0, 0, 0, 0, 0, 0, 0, 0, 0, 0, 0,\n",
            "        0, 0, 0, 0, 0, 0, 0, 0, 0, 0, 0, 0, 0, 0, 0, 0, 0, 0, 0, 0, 0, 0,\n",
            "        0, 0, 0, 0, 0, 0, 0, 0, 0, 0, 0, 0, 0, 0, 0, 0, 0, 0, 0, 0],\n",
            "       [1, 1, 1, 1, 1, 1, 1, 1, 1, 1, 1, 1, 1, 1, 1, 1, 1, 1, 1, 1, 1, 1,\n",
            "        1, 1, 0, 0, 0, 0, 0, 0, 0, 0, 0, 0, 0, 0, 0, 0, 0, 0, 0, 0, 0, 0,\n",
            "        0, 0, 0, 0, 0, 0, 0, 0, 0, 0, 0, 0, 0, 0, 0, 0, 0, 0, 0, 0],\n",
            "       [1, 1, 1, 1, 1, 1, 1, 1, 1, 1, 1, 1, 1, 1, 0, 0, 0, 0, 0, 0, 0, 0,\n",
            "        0, 0, 0, 0, 0, 0, 0, 0, 0, 0, 0, 0, 0, 0, 0, 0, 0, 0, 0, 0, 0, 0,\n",
            "        0, 0, 0, 0, 0, 0, 0, 0, 0, 0, 0, 0, 0, 0, 0, 0, 0, 0, 0, 0],\n",
            "       [1, 1, 1, 1, 1, 1, 1, 0, 0, 0, 0, 0, 0, 0, 0, 0, 0, 0, 0, 0, 0, 0,\n",
            "        0, 0, 0, 0, 0, 0, 0, 0, 0, 0, 0, 0, 0, 0, 0, 0, 0, 0, 0, 0, 0, 0,\n",
            "        0, 0, 0, 0, 0, 0, 0, 0, 0, 0, 0, 0, 0, 0, 0, 0, 0, 0, 0, 0],\n",
            "       [1, 1, 1, 1, 0, 0, 0, 0, 0, 0, 0, 0, 0, 0, 0, 0, 0, 0, 0, 0, 0, 0,\n",
            "        0, 0, 0, 0, 0, 0, 0, 0, 0, 0, 0, 0, 0, 0, 0, 0, 0, 0, 0, 0, 0, 0,\n",
            "        0, 0, 0, 0, 0, 0, 0, 0, 0, 0, 0, 0, 0, 0, 0, 0, 0, 0, 0, 0]],\n",
            "      dtype=int32)>}, <tf.Tensor: shape=(8, 134), dtype=int64, numpy=\n",
            "array([[0, 0, 0, ..., 0, 0, 0],\n",
            "       [0, 0, 0, ..., 0, 0, 0],\n",
            "       [0, 0, 0, ..., 0, 0, 0],\n",
            "       ...,\n",
            "       [0, 0, 0, ..., 0, 0, 0],\n",
            "       [0, 0, 0, ..., 0, 0, 0],\n",
            "       [0, 0, 0, ..., 0, 0, 0]])>)\n"
          ],
          "name": "stdout"
        }
      ]
    },
    {
      "cell_type": "code",
      "metadata": {
        "colab": {
          "base_uri": "https://localhost:8080/"
        },
        "id": "jwhbI1548wb0",
        "outputId": "15aac932-5fd8-4299-f4ec-441b1908e2f2"
      },
      "source": [
        "len([0, 0, 0, 0, 0, 0, 0, 0, 0, 0, 0, 0, 0, 0, 0, 0, 0, 0, 0, 0, 0, 0,\n",
        "        0, 0, 0, 0, 0, 0, 0, 0, 0, 0, 0, 0, 0, 0, 0, 0, 0, 0, 0, 0, 0, 0,\n",
        "        0, 0, 0, 0, 0, 0, 0, 0, 0, 0, 0, 0, 0, 0, 0, 0, 0, 0, 0, 0, 0, 0,\n",
        "        0, 0, 0, 0, 0, 0, 0, 0, 0, 0, 0, 0, 0, 0, 0, 0, 0, 0, 0, 0, 0, 0,\n",
        "        0, 0, 0, 0, 0, 0, 0, 0, 1, 0, 0, 0])"
      ],
      "execution_count": null,
      "outputs": [
        {
          "output_type": "execute_result",
          "data": {
            "text/plain": [
              "100"
            ]
          },
          "metadata": {
            "tags": []
          },
          "execution_count": 133
        }
      ]
    },
    {
      "cell_type": "code",
      "metadata": {
        "colab": {
          "base_uri": "https://localhost:8080/"
        },
        "id": "8RQvtavTDbJg",
        "outputId": "5ded890d-e1fd-4e8a-a0e8-0ed5732c9b4a"
      },
      "source": [
        "len(data_lim.cost_root_id.unique())"
      ],
      "execution_count": null,
      "outputs": [
        {
          "output_type": "execute_result",
          "data": {
            "text/plain": [
              "134"
            ]
          },
          "metadata": {
            "tags": []
          },
          "execution_count": 185
        }
      ]
    },
    {
      "cell_type": "code",
      "metadata": {
        "colab": {
          "base_uri": "https://localhost:8080/"
        },
        "id": "0OixlKP6pI14",
        "outputId": "77b216b3-e9bf-42fd-db3a-5cf61ea71a71"
      },
      "source": [
        "model = TFBertForSequenceClassification.from_pretrained('bert-base-multilingual-uncased', num_labels=len(data_lim.cost_root_id.unique()))\n",
        "\n",
        "l_r= 3e-5\n",
        "n_epochs = 100\n",
        "\n",
        "optimizer = tf.keras.optimizers.Adam(learning_rate=l_r, epsilon=1e-08)\n",
        "loss = tf.keras.losses.CategoricalCrossentropy(from_logits=True)\n",
        "metric = tf.keras.metrics.CategoricalAccuracy('accuracy')\n",
        "\n",
        "model.compile(optimizer=optimizer, loss=loss, metrics=metric)"
      ],
      "execution_count": null,
      "outputs": [
        {
          "output_type": "stream",
          "text": [
            "All model checkpoint layers were used when initializing TFBertForSequenceClassification.\n",
            "\n",
            "Some layers of TFBertForSequenceClassification were not initialized from the model checkpoint at bert-base-multilingual-uncased and are newly initialized: ['classifier']\n",
            "You should probably TRAIN this model on a down-stream task to be able to use it for predictions and inference.\n"
          ],
          "name": "stderr"
        }
      ]
    },
    {
      "cell_type": "code",
      "metadata": {
        "colab": {
          "base_uri": "https://localhost:8080/"
        },
        "id": "7IvSBlBnxE4F",
        "outputId": "55a88908-c78e-49ec-a3e5-0ab56a241e82"
      },
      "source": [
        "model.summary()"
      ],
      "execution_count": null,
      "outputs": [
        {
          "output_type": "stream",
          "text": [
            "Model: \"tf_bert_for_sequence_classification_1\"\n",
            "_________________________________________________________________\n",
            "Layer (type)                 Output Shape              Param #   \n",
            "=================================================================\n",
            "bert (TFBertMainLayer)       multiple                  167356416 \n",
            "_________________________________________________________________\n",
            "dropout_75 (Dropout)         multiple                  0         \n",
            "_________________________________________________________________\n",
            "classifier (Dense)           multiple                  327594    \n",
            "=================================================================\n",
            "Total params: 167,684,010\n",
            "Trainable params: 167,684,010\n",
            "Non-trainable params: 0\n",
            "_________________________________________________________________\n"
          ],
          "name": "stdout"
        }
      ]
    },
    {
      "cell_type": "code",
      "metadata": {
        "id": "RvH1-mOfvDoT"
      },
      "source": [
        "early_stopping = tf.keras.callbacks.EarlyStopping(\n",
        "    monitor='val_accuracy',\n",
        "    min_delta = 0.001,\n",
        "    verbose=1,\n",
        "    patience=3,\n",
        "    restore_best_weights=True)"
      ],
      "execution_count": null,
      "outputs": []
    },
    {
      "cell_type": "code",
      "metadata": {
        "colab": {
          "base_uri": "https://localhost:8080/"
        },
        "id": "eBCDZg3Qve1d",
        "outputId": "cf3b3c07-f5cc-42f5-9de6-10738cc76b5b"
      },
      "source": [
        "checkpoint = tf.keras.callbacks.ModelCheckpoint(\n",
        "    'content/gdrive/My Drive/mysky/models/bert.{epoch:02d}.h5',\n",
        "    monitor='val_accuracy',\n",
        "    save_best_only=True,\n",
        "    save_weights_only=False,\n",
        "    period=1) "
      ],
      "execution_count": null,
      "outputs": [
        {
          "output_type": "stream",
          "text": [
            "WARNING:tensorflow:`period` argument is deprecated. Please use `save_freq` to specify the frequency in number of batches seen.\n"
          ],
          "name": "stdout"
        }
      ]
    },
    {
      "cell_type": "code",
      "metadata": {
        "colab": {
          "base_uri": "https://localhost:8080/"
        },
        "id": "6PMrDnM2vp4R",
        "outputId": "cb98f282-6ab4-4b02-ad36-60e30b19470d"
      },
      "source": [
        "!free -h --si | awk  '/Mem:/{print $2}'"
      ],
      "execution_count": null,
      "outputs": [
        {
          "output_type": "stream",
          "text": [
            "13G\n"
          ],
          "name": "stdout"
        }
      ]
    },
    {
      "cell_type": "code",
      "metadata": {
        "colab": {
          "base_uri": "https://localhost:8080/"
        },
        "id": "i_h3ByVpFfxn",
        "outputId": "1e3fb6c9-cf56-4952-c136-71aa05006040"
      },
      "source": [
        "class_weights\n",
        "class_weight_new = {i: class_weights[i] for i in range(len(class_weights))}\n",
        "class_weight_new"
      ],
      "execution_count": null,
      "outputs": [
        {
          "output_type": "execute_result",
          "data": {
            "text/plain": [
              "{0: 0.32087277918448703,\n",
              " 1: 0.673369786032122,\n",
              " 2: 0.6855106769989784,\n",
              " 3: 0.8800276372104331,\n",
              " 4: 0.3349546419140126,\n",
              " 5: 10.088965491950567,\n",
              " 6: 0.3002712215885836,\n",
              " 7: 1.1570044956956553,\n",
              " 8: 0.7816883600273902,\n",
              " 9: 1.3383992683259063,\n",
              " 10: 0.07163533356403204,\n",
              " 11: 0.7340380685062353,\n",
              " 12: 0.9730352974464173,\n",
              " 13: 0.9814074940783654,\n",
              " 14: 0.632113447540622,\n",
              " 15: 0.0799448816312108,\n",
              " 16: 0.7794625959043053,\n",
              " 17: 0.39897094395879135,\n",
              " 18: 0.3998645394121999,\n",
              " 19: 0.24760063647032565,\n",
              " 20: 0.37744360283333767,\n",
              " 21: 0.11013622710682833,\n",
              " 22: 0.29850312265366974,\n",
              " 23: 1.350282458146623,\n",
              " 24: 0.8938199728393297,\n",
              " 25: 1.0632338050812742,\n",
              " 26: 0.4934161205508148,\n",
              " 27: 1.5672553264213285,\n",
              " 28: 0.27309184325777336,\n",
              " 29: 0.49187936694104945,\n",
              " 30: 0.5102782347736896,\n",
              " 31: 0.5894643920792249,\n",
              " 32: 0.33316096999788075,\n",
              " 33: 1.2646162473741547,\n",
              " 34: 0.42938502093735026,\n",
              " 35: 1.6794310655312394,\n",
              " 36: 1.0363980199959315,\n",
              " 37: 0.5840149274959295,\n",
              " 38: 3.2281516943583966,\n",
              " 39: 2.7782198614505282,\n",
              " 40: 1.0831466513384016,\n",
              " 41: 0.8542144695701853,\n",
              " 42: 2.285035589996595,\n",
              " 43: 0.291862176076756,\n",
              " 44: 1.2412965402732408,\n",
              " 45: 1.00543803996667,\n",
              " 46: 2.826021304352292,\n",
              " 47: 4.065553421013743,\n",
              " 48: 1.1967965477189975,\n",
              " 49: 1.385360646161903,\n",
              " 50: 3.2155121027594995,\n",
              " 51: 4.372959483731503,\n",
              " 52: 0.5726930202543766,\n",
              " 53: 0.4608022618363686,\n",
              " 54: 0.9935177728584275,\n",
              " 55: 18.41349307275283,\n",
              " 56: 10.665477805776312,\n",
              " 57: 0.5181990099979658,\n",
              " 58: 4.5777134394915056,\n",
              " 59: 1.8844465145589173,\n",
              " 60: 1.8513115217420562,\n",
              " 61: 0.6540632295673591,\n",
              " 62: 0.36370318469653506,\n",
              " 63: 6.405942207837567,\n",
              " 64: 3.485746141955756,\n",
              " 65: 4.85367488797149,\n",
              " 66: 4.277300995024875,\n",
              " 67: 2.6802930517127157,\n",
              " 68: 8.035633963256126,\n",
              " 69: 5.655935200032894,\n",
              " 70: 18.089026234466434,\n",
              " 71: 2.2598838498755534,\n",
              " 72: 11.698601012033848,\n",
              " 73: 2.4871041521646764,\n",
              " 74: 2.8775115313411916,\n",
              " 75: 7.806480903467453,\n",
              " 76: 8.945989009202354,\n",
              " 77: 3.046149076575579,\n",
              " 78: 1.5191302091098338,\n",
              " 79: 7.988733375921947,\n",
              " 80: 37.67164179104478,\n",
              " 81: 1.673271782894817,\n",
              " 82: 1.3596718394781062,\n",
              " 83: 6.580463069269039,\n",
              " 84: 36.992873470485414,\n",
              " 85: 7.911770626635608,\n",
              " 86: 0.7851259952626922,\n",
              " 87: 1.5799187977006082,\n",
              " 88: 7.646571611217655,\n",
              " 89: 5.178069300408424,\n",
              " 90: 6.221528720036183,\n",
              " 91: 11.665366350067842,\n",
              " 92: 25.663805970149255,\n",
              " 93: 6.820945108345317,\n",
              " 94: 3.877439995489972,\n",
              " 95: 4.650293267524214,\n",
              " 96: 28.124718871396443,\n",
              " 97: 14.931668928086838,\n",
              " 98: 10.805813040062844,\n",
              " 99: 6.446167904590079,\n",
              " 100: 3.0689155121254714,\n",
              " 101: 3.218032096570439,\n",
              " 102: 1.5180070074764809,\n",
              " 103: 18.83582089552239,\n",
              " 104: 32.58895996209429,\n",
              " 105: 30.416362631288003,\n",
              " 106: 16.760036551934206,\n",
              " 107: 15.553821800090457,\n",
              " 108: 11.501985868974456,\n",
              " 109: 2.82019845825816,\n",
              " 110: 13.203244229015693,\n",
              " 111: 16.55729417428984,\n",
              " 112: 10.979168329475616,\n",
              " 113: 17.699176531137418,\n",
              " 114: 19.741389207807117,\n",
              " 115: 13.418983513803532,\n",
              " 116: 33.11458834857968,\n",
              " 117: 38.73782033230076,\n",
              " 118: 24.154170324846355,\n",
              " 119: 8.179699113991793,\n",
              " 120: 24.88611488014473,\n",
              " 121: 15.208181315644001,\n",
              " 122: 34.79838097647357,\n",
              " 123: 17.325776182379244,\n",
              " 124: 29.972328140320297,\n",
              " 125: 9.730352974464171,\n",
              " 126: 34.218407960199,\n",
              " 127: 7.70395676402229,\n",
              " 128: 20.428900274745676,\n",
              " 129: 30.873751543036697,\n",
              " 130: 26.491670678863745,\n",
              " 131: 14.159341224909934,\n",
              " 132: 36.66257995735608,\n",
              " 133: 39.8661063613969}"
            ]
          },
          "metadata": {
            "tags": []
          },
          "execution_count": 204
        }
      ]
    },
    {
      "cell_type": "code",
      "metadata": {
        "colab": {
          "base_uri": "https://localhost:8080/",
          "height": 384
        },
        "id": "rZ_1jocvvtiC",
        "outputId": "06666116-04cb-44c9-86ea-784226b21e50"
      },
      "source": [
        "history = model.fit(train_ds_encoded, epochs=n_epochs, validation_data=val_ds_encoded, callbacks=[checkpoint, early_stopping],\n",
        "                    class_weight = class_weight_new)"
      ],
      "execution_count": null,
      "outputs": [
        {
          "output_type": "stream",
          "text": [
            "Epoch 1/100\n",
            "25585/55024 [============>.................] - ETA: 1:11:36 - loss: 3.0512 - accuracy: 0.7198"
          ],
          "name": "stdout"
        },
        {
          "output_type": "error",
          "ename": "KeyboardInterrupt",
          "evalue": "ignored",
          "traceback": [
            "\u001b[0;31m---------------------------------------------------------------------------\u001b[0m",
            "\u001b[0;31mKeyboardInterrupt\u001b[0m                         Traceback (most recent call last)",
            "\u001b[0;32m<ipython-input-213-e33a6f63f0b7>\u001b[0m in \u001b[0;36m<module>\u001b[0;34m()\u001b[0m\n\u001b[1;32m      1\u001b[0m history = model.fit(train_ds_encoded, epochs=n_epochs, validation_data=val_ds_encoded, callbacks=[checkpoint, early_stopping],\n\u001b[1;32m      2\u001b[0m \u001b[0;34m\u001b[0m\u001b[0m\n\u001b[0;32m----> 3\u001b[0;31m                    class_weight = class_weight_new)\n\u001b[0m",
            "\u001b[0;32m/usr/local/lib/python3.7/dist-packages/tensorflow/python/keras/engine/training.py\u001b[0m in \u001b[0;36mfit\u001b[0;34m(self, x, y, batch_size, epochs, verbose, callbacks, validation_split, validation_data, shuffle, class_weight, sample_weight, initial_epoch, steps_per_epoch, validation_steps, validation_batch_size, validation_freq, max_queue_size, workers, use_multiprocessing)\u001b[0m\n\u001b[1;32m   1103\u001b[0m               \u001b[0mlogs\u001b[0m \u001b[0;34m=\u001b[0m \u001b[0mtmp_logs\u001b[0m  \u001b[0;31m# No error, now safe to assign to logs.\u001b[0m\u001b[0;34m\u001b[0m\u001b[0;34m\u001b[0m\u001b[0m\n\u001b[1;32m   1104\u001b[0m               \u001b[0mend_step\u001b[0m \u001b[0;34m=\u001b[0m \u001b[0mstep\u001b[0m \u001b[0;34m+\u001b[0m \u001b[0mdata_handler\u001b[0m\u001b[0;34m.\u001b[0m\u001b[0mstep_increment\u001b[0m\u001b[0;34m\u001b[0m\u001b[0;34m\u001b[0m\u001b[0m\n\u001b[0;32m-> 1105\u001b[0;31m               \u001b[0mcallbacks\u001b[0m\u001b[0;34m.\u001b[0m\u001b[0mon_train_batch_end\u001b[0m\u001b[0;34m(\u001b[0m\u001b[0mend_step\u001b[0m\u001b[0;34m,\u001b[0m \u001b[0mlogs\u001b[0m\u001b[0;34m)\u001b[0m\u001b[0;34m\u001b[0m\u001b[0;34m\u001b[0m\u001b[0m\n\u001b[0m\u001b[1;32m   1106\u001b[0m               \u001b[0;32mif\u001b[0m \u001b[0mself\u001b[0m\u001b[0;34m.\u001b[0m\u001b[0mstop_training\u001b[0m\u001b[0;34m:\u001b[0m\u001b[0;34m\u001b[0m\u001b[0;34m\u001b[0m\u001b[0m\n\u001b[1;32m   1107\u001b[0m                 \u001b[0;32mbreak\u001b[0m\u001b[0;34m\u001b[0m\u001b[0;34m\u001b[0m\u001b[0m\n",
            "\u001b[0;32m/usr/local/lib/python3.7/dist-packages/tensorflow/python/keras/callbacks.py\u001b[0m in \u001b[0;36mon_train_batch_end\u001b[0;34m(self, batch, logs)\u001b[0m\n\u001b[1;32m    452\u001b[0m     \"\"\"\n\u001b[1;32m    453\u001b[0m     \u001b[0;32mif\u001b[0m \u001b[0mself\u001b[0m\u001b[0;34m.\u001b[0m\u001b[0m_should_call_train_batch_hooks\u001b[0m\u001b[0;34m:\u001b[0m\u001b[0;34m\u001b[0m\u001b[0;34m\u001b[0m\u001b[0m\n\u001b[0;32m--> 454\u001b[0;31m       \u001b[0mself\u001b[0m\u001b[0;34m.\u001b[0m\u001b[0m_call_batch_hook\u001b[0m\u001b[0;34m(\u001b[0m\u001b[0mModeKeys\u001b[0m\u001b[0;34m.\u001b[0m\u001b[0mTRAIN\u001b[0m\u001b[0;34m,\u001b[0m \u001b[0;34m'end'\u001b[0m\u001b[0;34m,\u001b[0m \u001b[0mbatch\u001b[0m\u001b[0;34m,\u001b[0m \u001b[0mlogs\u001b[0m\u001b[0;34m=\u001b[0m\u001b[0mlogs\u001b[0m\u001b[0;34m)\u001b[0m\u001b[0;34m\u001b[0m\u001b[0;34m\u001b[0m\u001b[0m\n\u001b[0m\u001b[1;32m    455\u001b[0m \u001b[0;34m\u001b[0m\u001b[0m\n\u001b[1;32m    456\u001b[0m   \u001b[0;32mdef\u001b[0m \u001b[0mon_test_batch_begin\u001b[0m\u001b[0;34m(\u001b[0m\u001b[0mself\u001b[0m\u001b[0;34m,\u001b[0m \u001b[0mbatch\u001b[0m\u001b[0;34m,\u001b[0m \u001b[0mlogs\u001b[0m\u001b[0;34m=\u001b[0m\u001b[0;32mNone\u001b[0m\u001b[0;34m)\u001b[0m\u001b[0;34m:\u001b[0m\u001b[0;34m\u001b[0m\u001b[0;34m\u001b[0m\u001b[0m\n",
            "\u001b[0;32m/usr/local/lib/python3.7/dist-packages/tensorflow/python/keras/callbacks.py\u001b[0m in \u001b[0;36m_call_batch_hook\u001b[0;34m(self, mode, hook, batch, logs)\u001b[0m\n\u001b[1;32m    294\u001b[0m       \u001b[0mself\u001b[0m\u001b[0;34m.\u001b[0m\u001b[0m_call_batch_begin_hook\u001b[0m\u001b[0;34m(\u001b[0m\u001b[0mmode\u001b[0m\u001b[0;34m,\u001b[0m \u001b[0mbatch\u001b[0m\u001b[0;34m,\u001b[0m \u001b[0mlogs\u001b[0m\u001b[0;34m)\u001b[0m\u001b[0;34m\u001b[0m\u001b[0;34m\u001b[0m\u001b[0m\n\u001b[1;32m    295\u001b[0m     \u001b[0;32melif\u001b[0m \u001b[0mhook\u001b[0m \u001b[0;34m==\u001b[0m \u001b[0;34m'end'\u001b[0m\u001b[0;34m:\u001b[0m\u001b[0;34m\u001b[0m\u001b[0;34m\u001b[0m\u001b[0m\n\u001b[0;32m--> 296\u001b[0;31m       \u001b[0mself\u001b[0m\u001b[0;34m.\u001b[0m\u001b[0m_call_batch_end_hook\u001b[0m\u001b[0;34m(\u001b[0m\u001b[0mmode\u001b[0m\u001b[0;34m,\u001b[0m \u001b[0mbatch\u001b[0m\u001b[0;34m,\u001b[0m \u001b[0mlogs\u001b[0m\u001b[0;34m)\u001b[0m\u001b[0;34m\u001b[0m\u001b[0;34m\u001b[0m\u001b[0m\n\u001b[0m\u001b[1;32m    297\u001b[0m     \u001b[0;32melse\u001b[0m\u001b[0;34m:\u001b[0m\u001b[0;34m\u001b[0m\u001b[0;34m\u001b[0m\u001b[0m\n\u001b[1;32m    298\u001b[0m       \u001b[0;32mraise\u001b[0m \u001b[0mValueError\u001b[0m\u001b[0;34m(\u001b[0m\u001b[0;34m'Unrecognized hook: {}'\u001b[0m\u001b[0;34m.\u001b[0m\u001b[0mformat\u001b[0m\u001b[0;34m(\u001b[0m\u001b[0mhook\u001b[0m\u001b[0;34m)\u001b[0m\u001b[0;34m)\u001b[0m\u001b[0;34m\u001b[0m\u001b[0;34m\u001b[0m\u001b[0m\n",
            "\u001b[0;32m/usr/local/lib/python3.7/dist-packages/tensorflow/python/keras/callbacks.py\u001b[0m in \u001b[0;36m_call_batch_end_hook\u001b[0;34m(self, mode, batch, logs)\u001b[0m\n\u001b[1;32m    314\u001b[0m       \u001b[0mself\u001b[0m\u001b[0;34m.\u001b[0m\u001b[0m_batch_times\u001b[0m\u001b[0;34m.\u001b[0m\u001b[0mappend\u001b[0m\u001b[0;34m(\u001b[0m\u001b[0mbatch_time\u001b[0m\u001b[0;34m)\u001b[0m\u001b[0;34m\u001b[0m\u001b[0;34m\u001b[0m\u001b[0m\n\u001b[1;32m    315\u001b[0m \u001b[0;34m\u001b[0m\u001b[0m\n\u001b[0;32m--> 316\u001b[0;31m     \u001b[0mself\u001b[0m\u001b[0;34m.\u001b[0m\u001b[0m_call_batch_hook_helper\u001b[0m\u001b[0;34m(\u001b[0m\u001b[0mhook_name\u001b[0m\u001b[0;34m,\u001b[0m \u001b[0mbatch\u001b[0m\u001b[0;34m,\u001b[0m \u001b[0mlogs\u001b[0m\u001b[0;34m)\u001b[0m\u001b[0;34m\u001b[0m\u001b[0;34m\u001b[0m\u001b[0m\n\u001b[0m\u001b[1;32m    317\u001b[0m \u001b[0;34m\u001b[0m\u001b[0m\n\u001b[1;32m    318\u001b[0m     \u001b[0;32mif\u001b[0m \u001b[0mlen\u001b[0m\u001b[0;34m(\u001b[0m\u001b[0mself\u001b[0m\u001b[0;34m.\u001b[0m\u001b[0m_batch_times\u001b[0m\u001b[0;34m)\u001b[0m \u001b[0;34m>=\u001b[0m \u001b[0mself\u001b[0m\u001b[0;34m.\u001b[0m\u001b[0m_num_batches_for_timing_check\u001b[0m\u001b[0;34m:\u001b[0m\u001b[0;34m\u001b[0m\u001b[0;34m\u001b[0m\u001b[0m\n",
            "\u001b[0;32m/usr/local/lib/python3.7/dist-packages/tensorflow/python/keras/callbacks.py\u001b[0m in \u001b[0;36m_call_batch_hook_helper\u001b[0;34m(self, hook_name, batch, logs)\u001b[0m\n\u001b[1;32m    354\u001b[0m       \u001b[0mhook\u001b[0m \u001b[0;34m=\u001b[0m \u001b[0mgetattr\u001b[0m\u001b[0;34m(\u001b[0m\u001b[0mcallback\u001b[0m\u001b[0;34m,\u001b[0m \u001b[0mhook_name\u001b[0m\u001b[0;34m)\u001b[0m\u001b[0;34m\u001b[0m\u001b[0;34m\u001b[0m\u001b[0m\n\u001b[1;32m    355\u001b[0m       \u001b[0;32mif\u001b[0m \u001b[0mgetattr\u001b[0m\u001b[0;34m(\u001b[0m\u001b[0mcallback\u001b[0m\u001b[0;34m,\u001b[0m \u001b[0;34m'_supports_tf_logs'\u001b[0m\u001b[0;34m,\u001b[0m \u001b[0;32mFalse\u001b[0m\u001b[0;34m)\u001b[0m\u001b[0;34m:\u001b[0m\u001b[0;34m\u001b[0m\u001b[0;34m\u001b[0m\u001b[0m\n\u001b[0;32m--> 356\u001b[0;31m         \u001b[0mhook\u001b[0m\u001b[0;34m(\u001b[0m\u001b[0mbatch\u001b[0m\u001b[0;34m,\u001b[0m \u001b[0mlogs\u001b[0m\u001b[0;34m)\u001b[0m\u001b[0;34m\u001b[0m\u001b[0;34m\u001b[0m\u001b[0m\n\u001b[0m\u001b[1;32m    357\u001b[0m       \u001b[0;32melse\u001b[0m\u001b[0;34m:\u001b[0m\u001b[0;34m\u001b[0m\u001b[0;34m\u001b[0m\u001b[0m\n\u001b[1;32m    358\u001b[0m         \u001b[0;32mif\u001b[0m \u001b[0mnumpy_logs\u001b[0m \u001b[0;32mis\u001b[0m \u001b[0;32mNone\u001b[0m\u001b[0;34m:\u001b[0m  \u001b[0;31m# Only convert once.\u001b[0m\u001b[0;34m\u001b[0m\u001b[0;34m\u001b[0m\u001b[0m\n",
            "\u001b[0;32m/usr/local/lib/python3.7/dist-packages/tensorflow/python/keras/callbacks.py\u001b[0m in \u001b[0;36mon_train_batch_end\u001b[0;34m(self, batch, logs)\u001b[0m\n\u001b[1;32m   1018\u001b[0m \u001b[0;34m\u001b[0m\u001b[0m\n\u001b[1;32m   1019\u001b[0m   \u001b[0;32mdef\u001b[0m \u001b[0mon_train_batch_end\u001b[0m\u001b[0;34m(\u001b[0m\u001b[0mself\u001b[0m\u001b[0;34m,\u001b[0m \u001b[0mbatch\u001b[0m\u001b[0;34m,\u001b[0m \u001b[0mlogs\u001b[0m\u001b[0;34m=\u001b[0m\u001b[0;32mNone\u001b[0m\u001b[0;34m)\u001b[0m\u001b[0;34m:\u001b[0m\u001b[0;34m\u001b[0m\u001b[0;34m\u001b[0m\u001b[0m\n\u001b[0;32m-> 1020\u001b[0;31m     \u001b[0mself\u001b[0m\u001b[0;34m.\u001b[0m\u001b[0m_batch_update_progbar\u001b[0m\u001b[0;34m(\u001b[0m\u001b[0mbatch\u001b[0m\u001b[0;34m,\u001b[0m \u001b[0mlogs\u001b[0m\u001b[0;34m)\u001b[0m\u001b[0;34m\u001b[0m\u001b[0;34m\u001b[0m\u001b[0m\n\u001b[0m\u001b[1;32m   1021\u001b[0m \u001b[0;34m\u001b[0m\u001b[0m\n\u001b[1;32m   1022\u001b[0m   \u001b[0;32mdef\u001b[0m \u001b[0mon_test_batch_end\u001b[0m\u001b[0;34m(\u001b[0m\u001b[0mself\u001b[0m\u001b[0;34m,\u001b[0m \u001b[0mbatch\u001b[0m\u001b[0;34m,\u001b[0m \u001b[0mlogs\u001b[0m\u001b[0;34m=\u001b[0m\u001b[0;32mNone\u001b[0m\u001b[0;34m)\u001b[0m\u001b[0;34m:\u001b[0m\u001b[0;34m\u001b[0m\u001b[0;34m\u001b[0m\u001b[0m\n",
            "\u001b[0;32m/usr/local/lib/python3.7/dist-packages/tensorflow/python/keras/callbacks.py\u001b[0m in \u001b[0;36m_batch_update_progbar\u001b[0;34m(self, batch, logs)\u001b[0m\n\u001b[1;32m   1082\u001b[0m     \u001b[0;32mif\u001b[0m \u001b[0mself\u001b[0m\u001b[0;34m.\u001b[0m\u001b[0mverbose\u001b[0m \u001b[0;34m==\u001b[0m \u001b[0;36m1\u001b[0m\u001b[0;34m:\u001b[0m\u001b[0;34m\u001b[0m\u001b[0;34m\u001b[0m\u001b[0m\n\u001b[1;32m   1083\u001b[0m       \u001b[0;31m# Only block async when verbose = 1.\u001b[0m\u001b[0;34m\u001b[0m\u001b[0;34m\u001b[0m\u001b[0;34m\u001b[0m\u001b[0m\n\u001b[0;32m-> 1084\u001b[0;31m       \u001b[0mlogs\u001b[0m \u001b[0;34m=\u001b[0m \u001b[0mtf_utils\u001b[0m\u001b[0;34m.\u001b[0m\u001b[0mto_numpy_or_python_type\u001b[0m\u001b[0;34m(\u001b[0m\u001b[0mlogs\u001b[0m\u001b[0;34m)\u001b[0m\u001b[0;34m\u001b[0m\u001b[0;34m\u001b[0m\u001b[0m\n\u001b[0m\u001b[1;32m   1085\u001b[0m       \u001b[0mself\u001b[0m\u001b[0;34m.\u001b[0m\u001b[0mprogbar\u001b[0m\u001b[0;34m.\u001b[0m\u001b[0mupdate\u001b[0m\u001b[0;34m(\u001b[0m\u001b[0mself\u001b[0m\u001b[0;34m.\u001b[0m\u001b[0mseen\u001b[0m\u001b[0;34m,\u001b[0m \u001b[0mlist\u001b[0m\u001b[0;34m(\u001b[0m\u001b[0mlogs\u001b[0m\u001b[0;34m.\u001b[0m\u001b[0mitems\u001b[0m\u001b[0;34m(\u001b[0m\u001b[0;34m)\u001b[0m\u001b[0;34m)\u001b[0m\u001b[0;34m,\u001b[0m \u001b[0mfinalize\u001b[0m\u001b[0;34m=\u001b[0m\u001b[0;32mFalse\u001b[0m\u001b[0;34m)\u001b[0m\u001b[0;34m\u001b[0m\u001b[0;34m\u001b[0m\u001b[0m\n\u001b[1;32m   1086\u001b[0m \u001b[0;34m\u001b[0m\u001b[0m\n",
            "\u001b[0;32m/usr/local/lib/python3.7/dist-packages/tensorflow/python/keras/utils/tf_utils.py\u001b[0m in \u001b[0;36mto_numpy_or_python_type\u001b[0;34m(tensors)\u001b[0m\n\u001b[1;32m    512\u001b[0m     \u001b[0;32mreturn\u001b[0m \u001b[0mt\u001b[0m  \u001b[0;31m# Don't turn ragged or sparse tensors to NumPy.\u001b[0m\u001b[0;34m\u001b[0m\u001b[0;34m\u001b[0m\u001b[0m\n\u001b[1;32m    513\u001b[0m \u001b[0;34m\u001b[0m\u001b[0m\n\u001b[0;32m--> 514\u001b[0;31m   \u001b[0;32mreturn\u001b[0m \u001b[0mnest\u001b[0m\u001b[0;34m.\u001b[0m\u001b[0mmap_structure\u001b[0m\u001b[0;34m(\u001b[0m\u001b[0m_to_single_numpy_or_python_type\u001b[0m\u001b[0;34m,\u001b[0m \u001b[0mtensors\u001b[0m\u001b[0;34m)\u001b[0m\u001b[0;34m\u001b[0m\u001b[0;34m\u001b[0m\u001b[0m\n\u001b[0m\u001b[1;32m    515\u001b[0m \u001b[0;34m\u001b[0m\u001b[0m\n\u001b[1;32m    516\u001b[0m \u001b[0;34m\u001b[0m\u001b[0m\n",
            "\u001b[0;32m/usr/local/lib/python3.7/dist-packages/tensorflow/python/util/nest.py\u001b[0m in \u001b[0;36mmap_structure\u001b[0;34m(func, *structure, **kwargs)\u001b[0m\n\u001b[1;32m    657\u001b[0m \u001b[0;34m\u001b[0m\u001b[0m\n\u001b[1;32m    658\u001b[0m   return pack_sequence_as(\n\u001b[0;32m--> 659\u001b[0;31m       \u001b[0mstructure\u001b[0m\u001b[0;34m[\u001b[0m\u001b[0;36m0\u001b[0m\u001b[0;34m]\u001b[0m\u001b[0;34m,\u001b[0m \u001b[0;34m[\u001b[0m\u001b[0mfunc\u001b[0m\u001b[0;34m(\u001b[0m\u001b[0;34m*\u001b[0m\u001b[0mx\u001b[0m\u001b[0;34m)\u001b[0m \u001b[0;32mfor\u001b[0m \u001b[0mx\u001b[0m \u001b[0;32min\u001b[0m \u001b[0mentries\u001b[0m\u001b[0;34m]\u001b[0m\u001b[0;34m,\u001b[0m\u001b[0;34m\u001b[0m\u001b[0;34m\u001b[0m\u001b[0m\n\u001b[0m\u001b[1;32m    660\u001b[0m       expand_composites=expand_composites)\n\u001b[1;32m    661\u001b[0m \u001b[0;34m\u001b[0m\u001b[0m\n",
            "\u001b[0;32m/usr/local/lib/python3.7/dist-packages/tensorflow/python/util/nest.py\u001b[0m in \u001b[0;36m<listcomp>\u001b[0;34m(.0)\u001b[0m\n\u001b[1;32m    657\u001b[0m \u001b[0;34m\u001b[0m\u001b[0m\n\u001b[1;32m    658\u001b[0m   return pack_sequence_as(\n\u001b[0;32m--> 659\u001b[0;31m       \u001b[0mstructure\u001b[0m\u001b[0;34m[\u001b[0m\u001b[0;36m0\u001b[0m\u001b[0;34m]\u001b[0m\u001b[0;34m,\u001b[0m \u001b[0;34m[\u001b[0m\u001b[0mfunc\u001b[0m\u001b[0;34m(\u001b[0m\u001b[0;34m*\u001b[0m\u001b[0mx\u001b[0m\u001b[0;34m)\u001b[0m \u001b[0;32mfor\u001b[0m \u001b[0mx\u001b[0m \u001b[0;32min\u001b[0m \u001b[0mentries\u001b[0m\u001b[0;34m]\u001b[0m\u001b[0;34m,\u001b[0m\u001b[0;34m\u001b[0m\u001b[0;34m\u001b[0m\u001b[0m\n\u001b[0m\u001b[1;32m    660\u001b[0m       expand_composites=expand_composites)\n\u001b[1;32m    661\u001b[0m \u001b[0;34m\u001b[0m\u001b[0m\n",
            "\u001b[0;32m/usr/local/lib/python3.7/dist-packages/tensorflow/python/keras/utils/tf_utils.py\u001b[0m in \u001b[0;36m_to_single_numpy_or_python_type\u001b[0;34m(t)\u001b[0m\n\u001b[1;32m    508\u001b[0m   \u001b[0;32mdef\u001b[0m \u001b[0m_to_single_numpy_or_python_type\u001b[0m\u001b[0;34m(\u001b[0m\u001b[0mt\u001b[0m\u001b[0;34m)\u001b[0m\u001b[0;34m:\u001b[0m\u001b[0;34m\u001b[0m\u001b[0;34m\u001b[0m\u001b[0m\n\u001b[1;32m    509\u001b[0m     \u001b[0;32mif\u001b[0m \u001b[0misinstance\u001b[0m\u001b[0;34m(\u001b[0m\u001b[0mt\u001b[0m\u001b[0;34m,\u001b[0m \u001b[0mops\u001b[0m\u001b[0;34m.\u001b[0m\u001b[0mTensor\u001b[0m\u001b[0;34m)\u001b[0m\u001b[0;34m:\u001b[0m\u001b[0;34m\u001b[0m\u001b[0;34m\u001b[0m\u001b[0m\n\u001b[0;32m--> 510\u001b[0;31m       \u001b[0mx\u001b[0m \u001b[0;34m=\u001b[0m \u001b[0mt\u001b[0m\u001b[0;34m.\u001b[0m\u001b[0mnumpy\u001b[0m\u001b[0;34m(\u001b[0m\u001b[0;34m)\u001b[0m\u001b[0;34m\u001b[0m\u001b[0;34m\u001b[0m\u001b[0m\n\u001b[0m\u001b[1;32m    511\u001b[0m       \u001b[0;32mreturn\u001b[0m \u001b[0mx\u001b[0m\u001b[0;34m.\u001b[0m\u001b[0mitem\u001b[0m\u001b[0;34m(\u001b[0m\u001b[0;34m)\u001b[0m \u001b[0;32mif\u001b[0m \u001b[0mnp\u001b[0m\u001b[0;34m.\u001b[0m\u001b[0mndim\u001b[0m\u001b[0;34m(\u001b[0m\u001b[0mx\u001b[0m\u001b[0;34m)\u001b[0m \u001b[0;34m==\u001b[0m \u001b[0;36m0\u001b[0m \u001b[0;32melse\u001b[0m \u001b[0mx\u001b[0m\u001b[0;34m\u001b[0m\u001b[0;34m\u001b[0m\u001b[0m\n\u001b[1;32m    512\u001b[0m     \u001b[0;32mreturn\u001b[0m \u001b[0mt\u001b[0m  \u001b[0;31m# Don't turn ragged or sparse tensors to NumPy.\u001b[0m\u001b[0;34m\u001b[0m\u001b[0;34m\u001b[0m\u001b[0m\n",
            "\u001b[0;32m/usr/local/lib/python3.7/dist-packages/tensorflow/python/framework/ops.py\u001b[0m in \u001b[0;36mnumpy\u001b[0;34m(self)\u001b[0m\n\u001b[1;32m   1069\u001b[0m     \"\"\"\n\u001b[1;32m   1070\u001b[0m     \u001b[0;31m# TODO(slebedev): Consider avoiding a copy for non-CPU or remote tensors.\u001b[0m\u001b[0;34m\u001b[0m\u001b[0;34m\u001b[0m\u001b[0;34m\u001b[0m\u001b[0m\n\u001b[0;32m-> 1071\u001b[0;31m     \u001b[0mmaybe_arr\u001b[0m \u001b[0;34m=\u001b[0m \u001b[0mself\u001b[0m\u001b[0;34m.\u001b[0m\u001b[0m_numpy\u001b[0m\u001b[0;34m(\u001b[0m\u001b[0;34m)\u001b[0m  \u001b[0;31m# pylint: disable=protected-access\u001b[0m\u001b[0;34m\u001b[0m\u001b[0;34m\u001b[0m\u001b[0m\n\u001b[0m\u001b[1;32m   1072\u001b[0m     \u001b[0;32mreturn\u001b[0m \u001b[0mmaybe_arr\u001b[0m\u001b[0;34m.\u001b[0m\u001b[0mcopy\u001b[0m\u001b[0;34m(\u001b[0m\u001b[0;34m)\u001b[0m \u001b[0;32mif\u001b[0m \u001b[0misinstance\u001b[0m\u001b[0;34m(\u001b[0m\u001b[0mmaybe_arr\u001b[0m\u001b[0;34m,\u001b[0m \u001b[0mnp\u001b[0m\u001b[0;34m.\u001b[0m\u001b[0mndarray\u001b[0m\u001b[0;34m)\u001b[0m \u001b[0;32melse\u001b[0m \u001b[0mmaybe_arr\u001b[0m\u001b[0;34m\u001b[0m\u001b[0;34m\u001b[0m\u001b[0m\n\u001b[1;32m   1073\u001b[0m \u001b[0;34m\u001b[0m\u001b[0m\n",
            "\u001b[0;32m/usr/local/lib/python3.7/dist-packages/tensorflow/python/framework/ops.py\u001b[0m in \u001b[0;36m_numpy\u001b[0;34m(self)\u001b[0m\n\u001b[1;32m   1035\u001b[0m   \u001b[0;32mdef\u001b[0m \u001b[0m_numpy\u001b[0m\u001b[0;34m(\u001b[0m\u001b[0mself\u001b[0m\u001b[0;34m)\u001b[0m\u001b[0;34m:\u001b[0m\u001b[0;34m\u001b[0m\u001b[0;34m\u001b[0m\u001b[0m\n\u001b[1;32m   1036\u001b[0m     \u001b[0;32mtry\u001b[0m\u001b[0;34m:\u001b[0m\u001b[0;34m\u001b[0m\u001b[0;34m\u001b[0m\u001b[0m\n\u001b[0;32m-> 1037\u001b[0;31m       \u001b[0;32mreturn\u001b[0m \u001b[0mself\u001b[0m\u001b[0;34m.\u001b[0m\u001b[0m_numpy_internal\u001b[0m\u001b[0;34m(\u001b[0m\u001b[0;34m)\u001b[0m\u001b[0;34m\u001b[0m\u001b[0;34m\u001b[0m\u001b[0m\n\u001b[0m\u001b[1;32m   1038\u001b[0m     \u001b[0;32mexcept\u001b[0m \u001b[0mcore\u001b[0m\u001b[0;34m.\u001b[0m\u001b[0m_NotOkStatusException\u001b[0m \u001b[0;32mas\u001b[0m \u001b[0me\u001b[0m\u001b[0;34m:\u001b[0m  \u001b[0;31m# pylint: disable=protected-access\u001b[0m\u001b[0;34m\u001b[0m\u001b[0;34m\u001b[0m\u001b[0m\n\u001b[1;32m   1039\u001b[0m       \u001b[0msix\u001b[0m\u001b[0;34m.\u001b[0m\u001b[0mraise_from\u001b[0m\u001b[0;34m(\u001b[0m\u001b[0mcore\u001b[0m\u001b[0;34m.\u001b[0m\u001b[0m_status_to_exception\u001b[0m\u001b[0;34m(\u001b[0m\u001b[0me\u001b[0m\u001b[0;34m.\u001b[0m\u001b[0mcode\u001b[0m\u001b[0;34m,\u001b[0m \u001b[0me\u001b[0m\u001b[0;34m.\u001b[0m\u001b[0mmessage\u001b[0m\u001b[0;34m)\u001b[0m\u001b[0;34m,\u001b[0m \u001b[0;32mNone\u001b[0m\u001b[0;34m)\u001b[0m  \u001b[0;31m# pylint: disable=protected-access\u001b[0m\u001b[0;34m\u001b[0m\u001b[0;34m\u001b[0m\u001b[0m\n",
            "\u001b[0;31mKeyboardInterrupt\u001b[0m: "
          ]
        }
      ]
    },
    {
      "cell_type": "code",
      "metadata": {
        "id": "JN0DP-K75vLA"
      },
      "source": [
        "model.save_weights(\"gdrive/My Drive/Colab Notebooks/models/bert.h5\")"
      ],
      "execution_count": null,
      "outputs": []
    },
    {
      "cell_type": "code",
      "source": [
        "model_predictions = model.predict(val_ds_encoded)\n",
        "# model_predictions"
      ],
      "metadata": {
        "id": "jfhD4gbIHpPv"
      },
      "execution_count": null,
      "outputs": []
    },
    {
      "cell_type": "code",
      "metadata": {
        "id": "Fb1-gt7svwMo"
      },
      "source": [
        "labels = None\n",
        "for element in val_ds_encoded.as_numpy_iterator():\n",
        "  if labels is None:\n",
        "    labels = tf.convert_to_tensor(element[1])\n",
        "  else:\n",
        "    labels = tf.concat([labels, tf.convert_to_tensor(element[1])], 0)"
      ],
      "execution_count": null,
      "outputs": []
    },
    {
      "cell_type": "code",
      "source": [
        "labels.shape"
      ],
      "metadata": {
        "id": "-qwhj09JHYFy"
      },
      "execution_count": null,
      "outputs": []
    },
    {
      "cell_type": "code",
      "source": [
        "predictions = None\n",
        "for element in model_predictions[0]:\n",
        "  # print(tf.convert_to_tensor(element).shape)\n",
        "  if predictions is None:\n",
        "    predictions = [tf.convert_to_tensor(element)]\n",
        "  else:\n",
        "    predictions = tf.concat([predictions, [tf.convert_to_tensor(element)]], 0)\n",
        "predictions.shape"
      ],
      "metadata": {
        "id": "ktSqQGFPHaKS"
      },
      "execution_count": null,
      "outputs": []
    },
    {
      "cell_type": "code",
      "source": [
        "m = tf.keras.metrics.CategoricalAccuracy()\n",
        "m.update_state(labels, predictions)\n",
        "m.result().numpy()"
      ],
      "metadata": {
        "id": "GLCvbBqeHvPi"
      },
      "execution_count": null,
      "outputs": []
    },
    {
      "cell_type": "code",
      "source": [
        "predicted_categories = tf.argmax(predictions, axis=1)\n",
        "predicted_categories"
      ],
      "metadata": {
        "id": "xdxIbfGAHzvQ"
      },
      "execution_count": null,
      "outputs": []
    },
    {
      "cell_type": "code",
      "source": [
        "labels_categories = tf.argmax(labels, axis=1)\n",
        "labels_categories"
      ],
      "metadata": {
        "id": "z5utdu9rH0ZL"
      },
      "execution_count": null,
      "outputs": []
    },
    {
      "cell_type": "code",
      "source": [
        "matrix = confusion_matrix(labels_categories, predicted_categories)\n",
        "accuracies  = matrix.diagonal()/matrix.sum(axis=1)\n",
        "accuracies"
      ],
      "metadata": {
        "id": "4P8RleHPH3Ll"
      },
      "execution_count": null,
      "outputs": []
    },
    {
      "cell_type": "code",
      "source": [
        "labels_mapping = {i:label for i, label in enumerate(encoder.classes_)}\n",
        "len(labels_mapping)"
      ],
      "metadata": {
        "id": "XSTlEECLH4Rk"
      },
      "execution_count": null,
      "outputs": []
    },
    {
      "cell_type": "code",
      "source": [
        "for i, accuracy in enumerate(accuracies):\n",
        "  print(f\"Label {labels_mapping[i]} : accuracy {accuracy}\")"
      ],
      "metadata": {
        "id": "YySgJ5owH66O"
      },
      "execution_count": null,
      "outputs": []
    },
    {
      "cell_type": "code",
      "source": [
        "np.argsort(matrix[109], axis=-1, kind='quicksort')[::-1][:3]"
      ],
      "metadata": {
        "id": "Se5jzA9hIDCl"
      },
      "execution_count": null,
      "outputs": []
    },
    {
      "cell_type": "code",
      "source": [
        "labels_mapping_reversed = {label:i for i, label in enumerate(encoder.classes_)}"
      ],
      "metadata": {
        "id": "XaMTx1GCIGgO"
      },
      "execution_count": null,
      "outputs": []
    },
    {
      "cell_type": "code",
      "source": [
        "for el in [117, 133, 111]:\n",
        "  print(labels_mapping[el])"
      ],
      "metadata": {
        "id": "G5socL--IJNS"
      },
      "execution_count": null,
      "outputs": []
    }
  ]
}